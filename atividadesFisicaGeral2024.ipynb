{
  "cells": [
    {
      "cell_type": "markdown",
      "metadata": {
        "id": "view-in-github",
        "colab_type": "text"
      },
      "source": [
        "<a href=\"https://colab.research.google.com/github/dilsonjd/CursosUERJ/blob/main/atividadesFisicaGeral2024.ipynb\" target=\"_parent\"><img src=\"https://colab.research.google.com/assets/colab-badge.svg\" alt=\"Open In Colab\"/></a>"
      ]
    },
    {
      "cell_type": "markdown",
      "metadata": {
        "id": "XaNhcQ395QEd"
      },
      "source": [
        "# Como visualizar dados usando Python\n",
        "\n",
        "Vamos aprender aqui como visualizar um conjunto de dados utilizando Python como ferramenta. O nosso objetivo é construir **histogramas** e **gráficos**.\n",
        "\n",
        "A ferramenta que estamos usando é o [Google Colaboratory](https://colab.research.google.com/).\n",
        "\n",
        "O [Google Colaboratory](https://colab.research.google.com/) é um ambiente no seu navegador que usa a nuvem do Google. É construído em cima do [Jupyter Notebook](https://jupyter.org/) e usa Python como linguagem de programação.\n",
        "\n",
        "Em outras palavras, vamos aprender a **programar** histogramas e gráficos para visualizar dados, usando uma linguagem de programação chamada **Python**.\n",
        "\n",
        "### Mas o que é Python?\n",
        "\n",
        "Python é uma **linguagem de programação** de propósito geral.\n",
        "\n",
        "É uma das linguagens de programação mais usadas no mundo atualmente.\n",
        "\n",
        "   + É intuitiva e de rápida aprendizagem.\n",
        "   + Integra uma vasta biblioteca para computação científica e análise de dados: matplotlib, NumPy, pandas, SciPy, statsmodel, scikit-learn, etc.\n",
        "   + É \"portátil\": o código escrito em Python pode ser processado em qualquer sistema ou plataforma.\n",
        "\n",
        "\n",
        "Para mais informações, você pode acessar o site oficial de [Python](https://www.python.org/) (em inglês) ou [Python-Brasil](https://www.python.org.br/).\n",
        "\n",
        "\n",
        "### O que são histogramas?\n",
        "Um histograma é uma forma de representar um conjunto de dados. Em particular, um histograma representa a frequência com que um determinado valor aparece em um determinado conjunto contínuo de dados.\n",
        "\n",
        "Por exemplo, se considerarmos o seguinte conjunto de idades de um grupo de pessoas"
      ]
    },
    {
      "cell_type": "markdown",
      "metadata": {
        "id": "4xaxuvgmNEOg"
      },
      "source": [
        "1. Qual é a menor idade?\n",
        "1. E a maior?\n",
        "1. Qual a diferença entre a menor e a maior idade?\n",
        "1. Qual é a idade que aparece com maior frequência?"
      ]
    },
    {
      "cell_type": "markdown",
      "metadata": {
        "id": "JXjczaOcOLvm"
      },
      "source": [
        "## Representação do conjunto das idades\n",
        "Abaixo, colocamos as idades em um **histograma**, onde consideramos intervalos de 1 ano para representar as idades.\n",
        "\n",
        "**Observação**: para rodar o código abaixo e produzir o histograma, basta clicar na setinha que se encontra no canto esquerdo ao alto."
      ]
    },
    {
      "cell_type": "code",
      "execution_count": 1,
      "metadata": {
        "id": "BDvYdHrvNdNI"
      },
      "outputs": [],
      "source": [
        "import numpy as np\n",
        "import matplotlib as mpl\n",
        "import matplotlib.pyplot as plt\n",
        "\n",
        "\n"
      ]
    },
    {
      "cell_type": "code",
      "execution_count": 103,
      "metadata": {
        "colab": {
          "base_uri": "https://localhost:8080/",
          "height": 547
        },
        "id": "SEA4ZGy7r7Qj",
        "outputId": "0ec756e4-e090-48c3-8304-d133ead393c4"
      },
      "outputs": [
        {
          "output_type": "stream",
          "name": "stdout",
          "text": [
            "[26, 17, 18, 18, 17, 22, 19, 18, 19, 19.0, 21.0, 19.0, 18.0, 20.0, 21.0, 20.0, 24.0, 21.0, 21.0, 18.0, 40.0, 18.0, 18.0, 18.0, 21.0, 26.0, 21.0, 20.0, 19.0, 18.0, 18.0, 18.0, 19.0, 24.0, 18.0, 20.0, 18.0, 19.0, 19.0, 26.0, 19.0, 18.0, 45.0, 21.0, 19.0, 20.0, 29.0, 32.0, 22.0, 21.0, 29.0, 21.0, 18, 18, 18, 18, 19, 18, 21, 18, 18, 18, 17, 18, 18, 17, 19, 22, 18, 19, 18, 20, 17, 18, 18, 17, 19, 18, 34, 18, 19, 18, 18, 20, 18, 23, 18, 18, 17, 19, 18, 18, 19, 19, 28, 19, 26, 19, 19, 20, 20, 19, 22, 19, 18, 28, 20, 44, 18]\n",
            "[69, 85, 80, 65, 47, 80, 67, 95, 75, 55.0, 80.0, 85.0, 60.0, 62.0, 65.0, 59.0, 83.0, 80.0, 112.0, 64.0, 68.0, 69.0, 65.0, 66.0, 81.0, 80.0, 74.0, 70.0, 63.0, 53.0, 76.0, 65.0, 85.0, 93.0, 55.0, 59.0, 49.0, 45.0, 78.0, 53.0, 77.0, 58.0, 96.0, 65.0, 98.0, 48.0, 51.0, 98.0, 76.0, 125.0, 94.0, 75.0, 80, 60, 80, 66, 87.5, 58, 92, 57, 64, 57, 75, 59, 90, 67, 60, 72, 73, 86, 75, 95, 60, 75, 65, 60, 73, 63, 78, 64, 50, 61, 70, 60, 57, 110, 71, 65, 67, 58, 90, 64, 70, 43, 50, 78, 82, 61, 70, 70, 70, 50, 72, 55, 58, 50, 70, 90, 51]\n",
            "[169, 177, 175, 167, 166, 185, 165, 193, 175, 160.0, 170.0, 170.0, 174.0, 169.0, 178.0, 179.0, 181.0, 175.0, 184.0, 170.0, 168.0, 180.0, 175.0, 170.0, 170.0, 173.0, 170.0, 190.0, 170.0, 165.0, 178.0, 178.0, 183.0, 179.0, 169.0, 179.0, 153.0, 170.0, 183.0, 172.0, 168.0, 153.0, 186.0, 170.0, 170.0, 157.0, 160.0, 176.0, 182.0, 184.0, 189.0, 170.0, 168, 194, 170, 176, 173, 166, 180, 160, 167, 173, 173, 161, 169, 171, 178, 168, 170, 164, 164, 180, 175, 178, 175, 169, 178, 170, 175, 164, 175, 167, 170, 180, 163, 189, 171, 165, 172, 165, 175, 170, 181, 165, 152, 179, 179, 175, 180, 175, 173, 170, 178, 177, 153, 154, 183, 185, 160]\n"
          ]
        },
        {
          "output_type": "display_data",
          "data": {
            "text/plain": [
              "<Figure size 640x480 with 1 Axes>"
            ],
            "image/png": "[encoded data removed]"
          },
          "metadata": {}
        }
      ],
      "source": [
        "idades = [26, 17, 18, 18, 17, 22, 19, 18, 19, 19.0, 21.0, 19.0, 18.0, 20.0, 21.0, 20.0, 24.0, 21.0, 21.0,18.0,40.0,18.0,18.0,18.0,21.0,26.0,21.0,20.0,19.0,18.0,18.0,18.0,19.0,24.0,18.0,20.0,18.0,19.0,19.0,26.0,19.0,18.0,45.0,21.0,19.0,20.0,29.0,32.0,22.0,21.0,29.0,21.0,18, 18, 18, 18, 19, 18, 21, 18, 18, 18, 17, 18, 18, 17, 19, 22, 18, 19, 18, 20, 17, 18, 18, 17, 19, 18, 34, 18, 19, 18, 18, 20, 18, 23, 18, 18, 17, 19, 18, 18, 19, 19, 28, 19, 26, 19, 19, 20, 20, 19, 22, 19, 18, 28, 20, 44, 18]\n",
        "massa = [69, 85, 80, 65, 47, 80, 67, 95, 75, 55.0, 80.0, 85.0, 60.0, 62.0, 65.0, 59.0, 83.0, 80.0, 112.0,64.0,68.0,69.0,65.0,66.0,81.0,80.0,74.0,70.0,63.0,53.0,76.0,65.0,85.0,93.0,55.0,59.0,49.0,45.0,78.0,53.0,77.0,58.0,96.0,65.0,98.0,48.0,51.0,98.0,76.0,125.0,94.0,75.0,80, 60, 80, 66, 87.5, 58, 92, 57, 64, 57, 75, 59, 90, 67, 60, 72, 73, 86, 75, 95, 60, 75, 65, 60, 73, 63, 78, 64, 50, 61, 70, 60, 57, 110, 71, 65, 67, 58, 90, 64, 70, 43, 50, 78, 82, 61, 70, 70, 70, 50, 72, 55, 58, 50, 70, 90, 51]\n",
        "altura =[169, 177, 175, 167, 166, 185, 165, 193, 175, 160.0, 170.0, 170.0, 174.0, 169.0, 178.0, 179.0, 181.0, 175.0, 184.0,170.0,168.0,180.0,175.0,170.0,170.0,173.0,170.0,190.0,170.0,165.0,178.0,178.0,183.0,179.0,169.0,179.0,153.0,170.0,183.0,172.0,168.0,153.0,186.0,170.0,170.0,157.0,160.0,176.0,182.0,184.0,189.0,170.0,168, 194, 170, 176, 173, 166, 180, 160, 167, 173, 173, 161, 169, 171, 178, 168, 170, 164, 164, 180, 175, 178, 175, 169, 178, 170, 175, 164, 175, 167, 170, 180, 163, 189, 171, 165, 172, 165, 175, 170, 181, 165, 152, 179, 179, 175, 180, 175, 173, 170, 178, 177, 153, 154, 183, 185, 160]\n",
        "\n",
        "\n",
        "plt.hist(idades, bins=33, range=[17,50]) #bins = classes de frequência\n",
        "plt.xlabel('idade (anos)')\n",
        "plt.ylabel('frequência')\n",
        "plt.title('Histograma das idades')\n",
        "\n",
        "print(idades)\n",
        "print(massa)\n",
        "print(altura)\n",
        "\n",
        "plt.show()"
      ]
    },
    {
      "cell_type": "markdown",
      "metadata": {
        "id": "ucam_N-pOiax"
      },
      "source": [
        "O histograma acima, representa a **distribuição** das idades, organizadas em intervalos de 1 ano. Colocamos o título em cada eixo, para determinar o que representam. É importante determinar os títulos dos eixos e a unidades correspondente.\n",
        "\n",
        "A distribuição ficou um pouco espalhada demais (esparsa), certo?\n",
        "\n",
        "E se decidirmos representar as idades em intervalos de 5 anos? Como ficaria essa distribuição?\n",
        "Vamos ver!\n",
        "\n",
        "No código de Python que estamos construindo, o que controla os intervalos (também chamamos esses intervalos de **classes de frequência**) é a **variável** chamada de \"bins\". A variável chamada \"range\" (que é opcional), determina a variação dos valores do eixo-x. No nosso exemplo das idades, o intervalo do eixo-x é de 10 a 60, que são a menor e maior idade do conjunto, respectivamente."
      ]
    },
    {
      "cell_type": "code",
      "execution_count": 107,
      "metadata": {
        "colab": {
          "base_uri": "https://localhost:8080/",
          "height": 472
        },
        "id": "inl3CpdKPnAc",
        "outputId": "46417452-b43b-475f-8980-ebd39dc2342b"
      },
      "outputs": [
        {
          "output_type": "display_data",
          "data": {
            "text/plain": [
              "<Figure size 640x480 with 1 Axes>"
            ],
            "image/png": "[encoded data removed]"
          },
          "metadata": {}
        }
      ],
      "source": [
        "plt.hist(idades, bins=[10,15,20,25,30,35,40,45,50,55,60])\n",
        "plt.xlabel('idade (anos)')\n",
        "plt.ylabel('frequência')\n",
        "plt.title('Histograma das idades de um grupo de pessoas')\n",
        "plt.show()"
      ]
    },
    {
      "cell_type": "code",
      "execution_count": 112,
      "metadata": {
        "colab": {
          "base_uri": "https://localhost:8080/",
          "height": 860
        },
        "id": "enPfs8JdffSd",
        "outputId": "355acc54-6116-489d-c5d4-abc249048133"
      },
      "outputs": [
        {
          "output_type": "display_data",
          "data": {
            "text/plain": [
              "<Figure size 1000x1000 with 1 Axes>"
            ],
            "image/png": "[encoded data removed]"
          },
          "metadata": {}
        }
      ],
      "source": [
        "fig = plt.figure( figsize=(10,10) )\n",
        "\n",
        "countsi, binsi, _ = plt.hist( idades, bins=7, ec=\"red\", range=(15,50), color=\"green\" )\n",
        "#plt.xlim( 17, 26 )\n",
        "plt.xlabel( \"Idades (anos)\", fontsize=18 )\n",
        "plt.ylabel( \"Frequência\", fontsize=18 )\n",
        "plt.xticks(binsi)\n",
        "plt.show()"
      ]
    },
    {
      "cell_type": "code",
      "source": [
        "countsi"
      ],
      "metadata": {
        "colab": {
          "base_uri": "https://localhost:8080/"
        },
        "id": "yzJTvWlQ6uc0",
        "outputId": "9941a322-ee38-4221-b9ae-3a802bc708af"
      },
      "execution_count": 113,
      "outputs": [
        {
          "output_type": "execute_result",
          "data": {
            "text/plain": [
              "array([69., 27.,  8.,  2.,  0.,  2.,  1.])"
            ]
          },
          "metadata": {},
          "execution_count": 113
        }
      ]
    },
    {
      "cell_type": "code",
      "source": [
        "#massa\n",
        "fig = plt.figure( figsize=(10,10) )\n",
        "\n",
        "countsm, binsm, _ = plt.hist( massa, bins=13, ec=\"red\", range=(45,110), color=\"green\" )\n",
        "#plt.xlim( 55,  )\n",
        "plt.xlabel( \"Massa (kg)\", fontsize=18 )\n",
        "plt.ylabel( \"Frequência\", fontsize=18 )\n",
        "plt.xticks(binsm)\n",
        "plt.show()\n"
      ],
      "metadata": {
        "colab": {
          "base_uri": "https://localhost:8080/",
          "height": 860
        },
        "id": "dzhvgQcWTyI7",
        "outputId": "efa489d2-08c0-4be6-a316-ccbfae7ae3ad"
      },
      "execution_count": 127,
      "outputs": [
        {
          "output_type": "display_data",
          "data": {
            "text/plain": [
              "<Figure size 1000x1000 with 1 Axes>"
            ],
            "image/png": "[encoded data removed]"
          },
          "metadata": {}
        }
      ]
    },
    {
      "cell_type": "code",
      "execution_count": 128,
      "metadata": {
        "colab": {
          "base_uri": "https://localhost:8080/",
          "height": 570
        },
        "id": "egmgzFYUobam",
        "outputId": "71aafef3-6e3d-428c-8e61-cb415b7e6563"
      },
      "outputs": [
        {
          "output_type": "execute_result",
          "data": {
            "text/plain": [
              "Text(0, 0.5, 'Frequência')"
            ]
          },
          "metadata": {},
          "execution_count": 128
        },
        {
          "output_type": "display_data",
          "data": {
            "text/plain": [
              "<Figure size 800x600 with 1 Axes>"
            ],
            "image/png": "[encoded data removed]"
          },
          "metadata": {}
        }
      ],
      "source": [
        "#massa\n",
        "fig = plt.figure( figsize=(8,6) )\n",
        "countsm, binsm, _ = plt.hist( massa, bins=12, range=(50,110) )\n",
        "plt.xlim( 50, 110 )\n",
        "plt.xlabel( \"Massa (kg)\", fontsize=18 )\n",
        "plt.ylabel( \"Frequência\", fontsize=18 )\n",
        "#print(massa)\n"
      ]
    },
    {
      "cell_type": "code",
      "source": [
        "#altura\n",
        "fig = plt.figure( figsize=(8,6) )\n",
        "\n",
        "countsa, binsa, _ = plt.hist( altura, bins=10, ec=\"red\", range=(150,200), color=\"green\" )\n",
        "plt.xlim( 145, 200 )\n",
        "plt.xlabel( \"Altura (cm)\", fontsize=18 )\n",
        "plt.ylabel( \"Frequência\", fontsize=18 )\n",
        "plt.xticks(binsa)\n",
        "plt.show()"
      ],
      "metadata": {
        "colab": {
          "base_uri": "https://localhost:8080/",
          "height": 552
        },
        "id": "7UBTclJEUajS",
        "outputId": "badfe6f2-a2b7-46a4-9cf9-90236248f486"
      },
      "execution_count": 133,
      "outputs": [
        {
          "output_type": "display_data",
          "data": {
            "text/plain": [
              "<Figure size 800x600 with 1 Axes>"
            ],
            "image/png": "[encoded data removed]"
          },
          "metadata": {}
        }
      ]
    },
    {
      "cell_type": "code",
      "execution_count": 135,
      "metadata": {
        "colab": {
          "base_uri": "https://localhost:8080/",
          "height": 590
        },
        "id": "DSPlfdwOobv5",
        "outputId": "2e4e6d33-f8f9-43f3-f7ae-5cff4167a376"
      },
      "outputs": [
        {
          "output_type": "stream",
          "name": "stdout",
          "text": [
            "[169, 177, 175, 167, 166, 185, 165, 193, 175, 160.0, 170.0, 170.0, 174.0, 169.0, 178.0, 179.0, 181.0, 175.0, 184.0, 170.0, 168.0, 180.0, 175.0, 170.0, 170.0, 173.0, 170.0, 190.0, 170.0, 165.0, 178.0, 178.0, 183.0, 179.0, 169.0, 179.0, 153.0, 170.0, 183.0, 172.0, 168.0, 153.0, 186.0, 170.0, 170.0, 157.0, 160.0, 176.0, 182.0, 184.0, 189.0, 170.0, 168, 194, 170, 176, 173, 166, 180, 160, 167, 173, 173, 161, 169, 171, 178, 168, 170, 164, 164, 180, 175, 178, 175, 169, 178, 170, 175, 164, 175, 167, 170, 180, 163, 189, 171, 165, 172, 165, 175, 170, 181, 165, 152, 179, 179, 175, 180, 175, 173, 170, 178, 177, 153, 154, 183, 185, 160]\n"
          ]
        },
        {
          "output_type": "display_data",
          "data": {
            "text/plain": [
              "<Figure size 800x600 with 1 Axes>"
            ],
            "image/png": "[encoded data removed]"
          },
          "metadata": {}
        }
      ],
      "source": [
        "#altura\n",
        "fig = plt.figure( figsize=(8,6) )\n",
        "\n",
        "countsa, binsa, _ = plt.hist( altura, bins=10, range=(150,200) )\n",
        "plt.xlim( 150, 200 )\n",
        "plt.xlabel( \"Altura (cm)\", fontsize=18 )\n",
        "plt.ylabel( \"Frequência\", fontsize=18 )\n",
        "print(altura)"
      ]
    },
    {
      "cell_type": "markdown",
      "metadata": {
        "id": "1qD4Ttecqw0N"
      },
      "source": [
        "Frequência para cada intervalo:"
      ]
    },
    {
      "cell_type": "code",
      "execution_count": 136,
      "metadata": {
        "colab": {
          "base_uri": "https://localhost:8080/"
        },
        "id": "1d56f-KnpwlV",
        "outputId": "1d0897ed-1d32-4e01-8ec7-ce25664eba97"
      },
      "outputs": [
        {
          "output_type": "stream",
          "name": "stdout",
          "text": [
            "Borda dos intervalos  [15. 20. 25. 30. 35. 40. 45. 50.]\n",
            "Frequências dos intervalos   [69. 27.  8.  2.  0.  2.  1.]\n"
          ]
        }
      ],
      "source": [
        "#frequencia e classes idade\n",
        "print(\"Borda dos intervalos \", binsi)\n",
        "print(\"Frequências dos intervalos  \", countsi)\n"
      ]
    },
    {
      "cell_type": "code",
      "execution_count": 138,
      "metadata": {
        "colab": {
          "base_uri": "https://localhost:8080/"
        },
        "id": "D0O5WtkOqsEB",
        "outputId": "94587d45-3d25-45be-8315-bfde91660d9d"
      },
      "outputs": [
        {
          "output_type": "stream",
          "name": "stdout",
          "text": [
            "Borda dos intervalos  [ 50.  55.  60.  65.  70.  75.  80.  85.  90.  95. 100. 105. 110.]\n",
            "Frequências dos intervalos  [ 8. 13. 15. 15. 13. 11. 10.  5.  6.  5.  0.  1.]\n"
          ]
        }
      ],
      "source": [
        "#frequencia e classes massa\n",
        "print(\"Borda dos intervalos \", binsm)\n",
        "print(\"Frequências dos intervalos \", countsm)\n"
      ]
    },
    {
      "cell_type": "code",
      "execution_count": 140,
      "metadata": {
        "colab": {
          "base_uri": "https://localhost:8080/"
        },
        "id": "59aP-3YWqibL",
        "outputId": "ac414758-ba82-452f-a615-6c181268e2ff"
      },
      "outputs": [
        {
          "output_type": "stream",
          "name": "stdout",
          "text": [
            "Bordas dos intervalos  [150. 155. 160. 165. 170. 175. 180. 185. 190. 195. 200.]\n",
            "Frequências dos intervalos  [ 5.  1.  9. 19. 27. 27. 13.  5.  3.  0.]\n"
          ]
        }
      ],
      "source": [
        "#frequencia e classes altura\n",
        "print(\"Bordas dos intervalos \", binsa)\n",
        "print(\"Frequências dos intervalos \", countsa)\n"
      ]
    },
    {
      "cell_type": "markdown",
      "metadata": {
        "id": "9N0abXBWiMq4"
      },
      "source": [
        "Média:"
      ]
    },
    {
      "cell_type": "code",
      "execution_count": 145,
      "metadata": {
        "id": "6AF6X9q7iTOU",
        "colab": {
          "base_uri": "https://localhost:8080/"
        },
        "outputId": "de0d0ab1-735e-45c9-e199-6728caeb7114"
      },
      "outputs": [
        {
          "output_type": "execute_result",
          "data": {
            "text/plain": [
              "2240.0"
            ]
          },
          "metadata": {},
          "execution_count": 145
        }
      ],
      "source": [
        "#soma\n",
        "np.sum(idades)"
      ]
    },
    {
      "cell_type": "code",
      "execution_count": 148,
      "metadata": {
        "id": "e2cOeYVKijvz",
        "colab": {
          "base_uri": "https://localhost:8080/"
        },
        "outputId": "5903400f-904a-4aae-f5dd-ec8ad1ed8d22"
      },
      "outputs": [
        {
          "output_type": "stream",
          "name": "stdout",
          "text": [
            "109 109 109 109\n"
          ]
        }
      ],
      "source": [
        "#número de elementos indepente do conjunto\n",
        "N_i=len(idades)\n",
        "N_i\n",
        "N_m=len(massa)\n",
        "N_m\n",
        "N_a=len(altura)\n",
        "N_a\n",
        "\n",
        "N = N_a\n",
        "\n",
        "print(N_i,N_m,N_a,N)\n"
      ]
    },
    {
      "cell_type": "code",
      "execution_count": 149,
      "metadata": {
        "id": "iL96rD4ZkMqi",
        "colab": {
          "base_uri": "https://localhost:8080/"
        },
        "outputId": "2550cd04-7bea-455f-b28b-de30e471ed03"
      },
      "outputs": [
        {
          "output_type": "stream",
          "name": "stdout",
          "text": [
            "Média: 20.55045871559633\n"
          ]
        }
      ],
      "source": [
        "media = np.sum( idades ) / N\n",
        "print ( \"Média: {}\".format( media ) )"
      ]
    },
    {
      "cell_type": "code",
      "execution_count": 150,
      "metadata": {
        "id": "FpWZ1MNZ8_S_"
      },
      "outputs": [],
      "source": [
        "media_m = np.sum( massa ) / N\n",
        "media_a = np.sum( altura) / N"
      ]
    },
    {
      "cell_type": "code",
      "execution_count": 151,
      "metadata": {
        "id": "s9wOObg58_ft",
        "colab": {
          "base_uri": "https://localhost:8080/"
        },
        "outputId": "a6bb7d5a-60e4-4815-b020-a8be809c8c2b"
      },
      "outputs": [
        {
          "output_type": "stream",
          "name": "stdout",
          "text": [
            "Média das Idades: 20.55045871559633\n",
            "Média das massas: 70.46330275229357\n",
            "Média das alturas: 172.58715596330276\n"
          ]
        }
      ],
      "source": [
        "print ( \"Média das Idades: {}\".format( media ) )\n",
        "print ( \"Média das massas: {}\".format( media_m ) )\n",
        "print ( \"Média das alturas: {}\".format( media_a ) )"
      ]
    },
    {
      "cell_type": "markdown",
      "metadata": {
        "id": "yQFNuoiqkjak"
      },
      "source": [
        "Cálculo da média quadrática:\n"
      ]
    },
    {
      "cell_type": "code",
      "execution_count": null,
      "metadata": {
        "id": "G3O-bJi9kkWP"
      },
      "outputs": [],
      "source": [
        "# Sequência de valores ao quadrado\n",
        "x2 = [x**2 for x in idades]\n",
        "x2"
      ]
    },
    {
      "cell_type": "code",
      "execution_count": 153,
      "metadata": {
        "id": "TCy3XUl9nfqI",
        "colab": {
          "base_uri": "https://localhost:8080/"
        },
        "outputId": "0e5c8275-a282-4555-8e78-03ed1b20d93b"
      },
      "outputs": [
        {
          "output_type": "execute_result",
          "data": {
            "text/plain": [
              "48684.0"
            ]
          },
          "metadata": {},
          "execution_count": 153
        }
      ],
      "source": [
        "somax2= np.sum( x2 )\n",
        "somax2\n"
      ]
    },
    {
      "cell_type": "code",
      "execution_count": 154,
      "metadata": {
        "id": "90RgxvMWb_gp",
        "colab": {
          "base_uri": "https://localhost:8080/"
        },
        "outputId": "43f7301c-2c0c-497d-b86f-7e96d92cadc9"
      },
      "outputs": [
        {
          "output_type": "execute_result",
          "data": {
            "text/plain": [
              "446.64220183486236"
            ]
          },
          "metadata": {},
          "execution_count": 154
        }
      ],
      "source": [
        "msomax2=np.mean(x2)\n",
        "msomax2"
      ]
    },
    {
      "cell_type": "code",
      "execution_count": 155,
      "metadata": {
        "id": "2PFRsxBP9grB",
        "colab": {
          "base_uri": "https://localhost:8080/"
        },
        "outputId": "e25d7a81-0959-4d73-8c00-a3bc6f077fcb"
      },
      "outputs": [
        {
          "output_type": "execute_result",
          "data": {
            "text/plain": [
              "565831.25"
            ]
          },
          "metadata": {},
          "execution_count": 155
        }
      ],
      "source": [
        "# Sequência de valores ao quadrado das Massas\n",
        "x2_m = [xm**2 for xm in massa]\n",
        "x2_m\n",
        "somax2m= np.sum( x2_m )\n",
        "somax2m"
      ]
    },
    {
      "cell_type": "code",
      "execution_count": 156,
      "metadata": {
        "id": "nmRZzZyG9sRC",
        "colab": {
          "base_uri": "https://localhost:8080/"
        },
        "outputId": "8f75a69a-4d63-4cd3-f68c-aa7f2a7bf91c"
      },
      "outputs": [
        {
          "output_type": "execute_result",
          "data": {
            "text/plain": [
              "3254526.0"
            ]
          },
          "metadata": {},
          "execution_count": 156
        }
      ],
      "source": [
        "# Sequência de valores ao quadrado das Massas\n",
        "x2_a = [xa**2 for xa in altura]\n",
        "x2_a\n",
        "somax2a= np.sum( x2_a )\n",
        "somax2a"
      ]
    },
    {
      "cell_type": "code",
      "execution_count": 157,
      "metadata": {
        "id": "dJXSZtCx-JOU",
        "colab": {
          "base_uri": "https://localhost:8080/"
        },
        "outputId": "35545991-9310-4eb2-acc1-bb1208f22115"
      },
      "outputs": [
        {
          "output_type": "execute_result",
          "data": {
            "text/plain": [
              "5191.112385321101"
            ]
          },
          "metadata": {},
          "execution_count": 157
        }
      ],
      "source": [
        "msomax2m=np.mean(x2_m)\n",
        "msomax2m"
      ]
    },
    {
      "cell_type": "code",
      "execution_count": 158,
      "metadata": {
        "id": "k8pOVEgj-JbS",
        "colab": {
          "base_uri": "https://localhost:8080/"
        },
        "outputId": "04566a23-6578-4b60-e0db-77bae9719a40"
      },
      "outputs": [
        {
          "output_type": "execute_result",
          "data": {
            "text/plain": [
              "29858.036697247706"
            ]
          },
          "metadata": {},
          "execution_count": 158
        }
      ],
      "source": [
        "msomax2a=np.mean(x2_a)\n",
        "msomax2a"
      ]
    },
    {
      "cell_type": "code",
      "execution_count": 159,
      "metadata": {
        "id": "YOIxGmdSa_0G",
        "colab": {
          "base_uri": "https://localhost:8080/"
        },
        "outputId": "dc03f39e-4a3c-4006-e4fc-913361924f6c"
      },
      "outputs": [
        {
          "output_type": "stream",
          "name": "stdout",
          "text": [
            "Média quadrática das idades: 21.133911181673458\n",
            "Média quadrática das massas: 72.04937\n",
            "Média quadrática das alturas: 172.795\n"
          ]
        }
      ],
      "source": [
        "print ( \"Média quadrática das idades: {}\".format(np.sqrt(msomax2)))\n",
        "print ( \"Média quadrática das massas: {:.5f}\".format(np.sqrt(msomax2m)))\n",
        "print ( \"Média quadrática das alturas: {:.3f}\".format(np.sqrt(msomax2a)))"
      ]
    },
    {
      "cell_type": "markdown",
      "metadata": {
        "id": "TBywNA8Xn59Y"
      },
      "source": [
        "Cálculo da mediana:\n",
        "- ordenando o conjunto e obtendo os elementos corretos\n",
        "- utilizando a função `np.median`"
      ]
    },
    {
      "cell_type": "code",
      "execution_count": 160,
      "metadata": {
        "id": "gKtaZoJJn8Cl",
        "colab": {
          "base_uri": "https://localhost:8080/"
        },
        "outputId": "6639a1a1-5485-4453-c6f7-01d5ede90d44"
      },
      "outputs": [
        {
          "output_type": "execute_result",
          "data": {
            "text/plain": [
              "array([17., 17., 17., 17., 17., 17., 17., 18., 18., 18., 18., 18., 18.,\n",
              "       18., 18., 18., 18., 18., 18., 18., 18., 18., 18., 18., 18., 18.,\n",
              "       18., 18., 18., 18., 18., 18., 18., 18., 18., 18., 18., 18., 18.,\n",
              "       18., 18., 18., 18., 18., 18., 18., 19., 19., 19., 19., 19., 19.,\n",
              "       19., 19., 19., 19., 19., 19., 19., 19., 19., 19., 19., 19., 19.,\n",
              "       19., 19., 19., 19., 20., 20., 20., 20., 20., 20., 20., 20., 20.,\n",
              "       20., 21., 21., 21., 21., 21., 21., 21., 21., 21., 21., 22., 22.,\n",
              "       22., 22., 23., 24., 24., 26., 26., 26., 26., 28., 28., 29., 29.,\n",
              "       32., 34., 40., 44., 45.])"
            ]
          },
          "metadata": {},
          "execution_count": 160
        }
      ],
      "source": [
        "idades_ord = np.sort( idades )\n",
        "idades_ord"
      ]
    },
    {
      "cell_type": "code",
      "execution_count": 161,
      "metadata": {
        "id": "R5_bcyvqoZ5_",
        "colab": {
          "base_uri": "https://localhost:8080/"
        },
        "outputId": "fb0bab94-7d99-4ec5-8d79-79751e4fd972"
      },
      "outputs": [
        {
          "output_type": "execute_result",
          "data": {
            "text/plain": [
              "19.0"
            ]
          },
          "metadata": {},
          "execution_count": 161
        }
      ],
      "source": [
        "idades_ord[ int(N/2)-1 ] # Índices de 0..(N-1)"
      ]
    },
    {
      "cell_type": "code",
      "execution_count": 162,
      "metadata": {
        "id": "VvalzCUJodXA",
        "colab": {
          "base_uri": "https://localhost:8080/"
        },
        "outputId": "d8233542-f4af-498b-850b-52afbc53e4eb"
      },
      "outputs": [
        {
          "output_type": "execute_result",
          "data": {
            "text/plain": [
              "19.0"
            ]
          },
          "metadata": {},
          "execution_count": 162
        }
      ],
      "source": [
        "idades_ord[ int(N/2) ] # Índices de 0..(N-1)"
      ]
    },
    {
      "cell_type": "code",
      "execution_count": 163,
      "metadata": {
        "id": "KYn9d2TKk4GA",
        "colab": {
          "base_uri": "https://localhost:8080/"
        },
        "outputId": "5bb37eb0-0c4a-4502-b3df-3b896cab9214"
      },
      "outputs": [
        {
          "output_type": "execute_result",
          "data": {
            "text/plain": [
              "19.0"
            ]
          },
          "metadata": {},
          "execution_count": 163
        }
      ],
      "source": [
        "np.median( idades)"
      ]
    },
    {
      "cell_type": "code",
      "execution_count": 164,
      "metadata": {
        "id": "jWnCxkLK-ewf",
        "colab": {
          "base_uri": "https://localhost:8080/"
        },
        "outputId": "26d594f1-5cf9-471e-c76c-946664c02a70"
      },
      "outputs": [
        {
          "output_type": "execute_result",
          "data": {
            "text/plain": [
              "69.0"
            ]
          },
          "metadata": {},
          "execution_count": 164
        }
      ],
      "source": [
        "np.median( massa)"
      ]
    },
    {
      "cell_type": "code",
      "execution_count": 165,
      "metadata": {
        "id": "y32yZZGI-e6U",
        "colab": {
          "base_uri": "https://localhost:8080/"
        },
        "outputId": "82a05646-7986-4ada-e43d-38a6103c931a"
      },
      "outputs": [
        {
          "output_type": "execute_result",
          "data": {
            "text/plain": [
              "172.0"
            ]
          },
          "metadata": {},
          "execution_count": 165
        }
      ],
      "source": [
        "np.median( altura)"
      ]
    },
    {
      "cell_type": "markdown",
      "metadata": {
        "id": "CcwvxwZ8lDzy"
      },
      "source": [
        "Cálculo da moda (histograma):\n"
      ]
    },
    {
      "cell_type": "code",
      "execution_count": 166,
      "metadata": {
        "id": "36Dx8BvSlA3t",
        "colab": {
          "base_uri": "https://localhost:8080/"
        },
        "outputId": "79cabfd6-bacd-4c1c-da92-d398181904bc"
      },
      "outputs": [
        {
          "output_type": "stream",
          "name": "stdout",
          "text": [
            "Valor máximo: 15.0\n",
            "Intervalo com valor máximo: (60.0,65.0)\n"
          ]
        }
      ],
      "source": [
        "\n",
        "idx_max = np.argmax( countsm )\n",
        "print ( \"Valor máximo: {}\".format( countsm[ idx_max ] ) )\n",
        "print ( \"Intervalo com valor máximo: ({},{})\".format( binsm[ idx_max ], binsm[ idx_max+1 ] ) )"
      ]
    },
    {
      "cell_type": "markdown",
      "metadata": {
        "id": "hr9dGNpnlhkR"
      },
      "source": [
        "Cálculo da variância:"
      ]
    },
    {
      "cell_type": "code",
      "execution_count": 168,
      "metadata": {
        "id": "NNJk93WNljyP",
        "colab": {
          "base_uri": "https://localhost:8080/"
        },
        "outputId": "d0bcd6b5-993a-440b-f8fe-687bdd13a8cf"
      },
      "outputs": [
        {
          "output_type": "execute_result",
          "data": {
            "text/plain": [
              "24.32084841343317"
            ]
          },
          "metadata": {},
          "execution_count": 168
        }
      ],
      "source": [
        "# Diferença entre média dos quadrados e quadrado da média\n",
        "variancia_I = np.mean( x2 ) - (media) ** 2\n",
        "variancia_I"
      ]
    },
    {
      "cell_type": "markdown",
      "metadata": {
        "id": "wWr0-mAFmdIT"
      },
      "source": [
        "Usando o Numpy:\n"
      ]
    },
    {
      "cell_type": "code",
      "execution_count": 169,
      "metadata": {
        "id": "ipSTt5vomcHm",
        "colab": {
          "base_uri": "https://localhost:8080/"
        },
        "outputId": "be6ee945-49a4-456c-9dbe-d940781190ef"
      },
      "outputs": [
        {
          "output_type": "execute_result",
          "data": {
            "text/plain": [
              "24.32084841343321"
            ]
          },
          "metadata": {},
          "execution_count": 169
        }
      ],
      "source": [
        "np.var(idades)"
      ]
    },
    {
      "cell_type": "code",
      "execution_count": 170,
      "metadata": {
        "id": "yVVWi_9XEoTI",
        "colab": {
          "base_uri": "https://localhost:8080/"
        },
        "outputId": "5578d80e-80a3-4635-963f-917ae88cf2e3"
      },
      "outputs": [
        {
          "output_type": "execute_result",
          "data": {
            "text/plain": [
              "226.03535055971722"
            ]
          },
          "metadata": {},
          "execution_count": 170
        }
      ],
      "source": [
        "np.var(massa)"
      ]
    },
    {
      "cell_type": "code",
      "execution_count": 171,
      "metadata": {
        "id": "IWZQSMjJErS0",
        "colab": {
          "base_uri": "https://localhost:8080/"
        },
        "outputId": "3711fdd7-fcab-4261-b0a3-8e393a6c1e81"
      },
      "outputs": [
        {
          "output_type": "execute_result",
          "data": {
            "text/plain": [
              "71.71029374631766"
            ]
          },
          "metadata": {},
          "execution_count": 171
        }
      ],
      "source": [
        "np.var(altura)"
      ]
    },
    {
      "cell_type": "code",
      "execution_count": 172,
      "metadata": {
        "id": "IEdVaZnAmtEe",
        "colab": {
          "base_uri": "https://localhost:8080/"
        },
        "outputId": "5ea53bef-c756-40e0-961c-8592679c7a62"
      },
      "outputs": [
        {
          "output_type": "execute_result",
          "data": {
            "text/plain": [
              "24.32084841343321"
            ]
          },
          "metadata": {},
          "execution_count": 172
        }
      ],
      "source": [
        "np.var( idades, ddof=0 )"
      ]
    },
    {
      "cell_type": "markdown",
      "metadata": {
        "id": "NOB2t9v6mzPm"
      },
      "source": [
        "Desvio Padrão:"
      ]
    },
    {
      "cell_type": "code",
      "execution_count": 173,
      "metadata": {
        "id": "ztJ3YM2Om4IB",
        "colab": {
          "base_uri": "https://localhost:8080/"
        },
        "outputId": "06ad7ce6-739b-4c9c-d292-db362e90d993"
      },
      "outputs": [
        {
          "output_type": "execute_result",
          "data": {
            "text/plain": [
              "4.931617220895512"
            ]
          },
          "metadata": {},
          "execution_count": 173
        }
      ],
      "source": [
        "std_dev_I = np.sqrt( variancia_I )\n",
        "std_dev_I"
      ]
    },
    {
      "cell_type": "code",
      "execution_count": 174,
      "metadata": {
        "id": "rgjkRADtnBvD",
        "colab": {
          "base_uri": "https://localhost:8080/"
        },
        "outputId": "2fd40064-9285-4300-e54e-2298d67efdd6"
      },
      "outputs": [
        {
          "output_type": "execute_result",
          "data": {
            "text/plain": [
              "4.931617220895516"
            ]
          },
          "metadata": {},
          "execution_count": 174
        }
      ],
      "source": [
        "np.std( idades )"
      ]
    },
    {
      "cell_type": "code",
      "execution_count": 175,
      "metadata": {
        "id": "l4ed8YKFEz-j",
        "colab": {
          "base_uri": "https://localhost:8080/"
        },
        "outputId": "0cd6a872-31db-40c2-c4d2-924f73811cef"
      },
      "outputs": [
        {
          "output_type": "execute_result",
          "data": {
            "text/plain": [
              "15.034472074526501"
            ]
          },
          "metadata": {},
          "execution_count": 175
        }
      ],
      "source": [
        "np.std( massa )"
      ]
    },
    {
      "cell_type": "code",
      "execution_count": 176,
      "metadata": {
        "id": "ZEL7WzVNE0Jg",
        "colab": {
          "base_uri": "https://localhost:8080/"
        },
        "outputId": "e227439e-aba3-4e09-9858-ccf9b9cd6c8d"
      },
      "outputs": [
        {
          "output_type": "execute_result",
          "data": {
            "text/plain": [
              "8.46819306265024"
            ]
          },
          "metadata": {},
          "execution_count": 176
        }
      ],
      "source": [
        "np.std( altura )"
      ]
    },
    {
      "cell_type": "code",
      "execution_count": 177,
      "metadata": {
        "id": "jq8PwwDBnGYz",
        "colab": {
          "base_uri": "https://localhost:8080/"
        },
        "outputId": "f9e88735-e77c-4aba-d42c-2123d6a1d433"
      },
      "outputs": [
        {
          "output_type": "execute_result",
          "data": {
            "text/plain": [
              "4.931617220895516"
            ]
          },
          "metadata": {},
          "execution_count": 177
        }
      ],
      "source": [
        "np.std( idades, ddof=0 )"
      ]
    },
    {
      "cell_type": "markdown",
      "metadata": {
        "id": "7uBxR9gvnMDw"
      },
      "source": [
        "\n",
        "\n",
        "\n",
        "\n",
        "Desvio médio:"
      ]
    },
    {
      "cell_type": "code",
      "execution_count": 178,
      "metadata": {
        "id": "j7lk08XjnOK5",
        "colab": {
          "base_uri": "https://localhost:8080/"
        },
        "outputId": "bfe1cad7-795c-444a-d01b-07373a00be76"
      },
      "outputs": [
        {
          "output_type": "execute_result",
          "data": {
            "text/plain": [
              "array([ 5.44954128, -3.55045872, -2.55045872, -2.55045872, -3.55045872,\n",
              "        1.44954128, -1.55045872, -2.55045872, -1.55045872, -1.55045872,\n",
              "        0.44954128, -1.55045872, -2.55045872, -0.55045872,  0.44954128,\n",
              "       -0.55045872,  3.44954128,  0.44954128,  0.44954128, -2.55045872,\n",
              "       19.44954128, -2.55045872, -2.55045872, -2.55045872,  0.44954128,\n",
              "        5.44954128,  0.44954128, -0.55045872, -1.55045872, -2.55045872,\n",
              "       -2.55045872, -2.55045872, -1.55045872,  3.44954128, -2.55045872,\n",
              "       -0.55045872, -2.55045872, -1.55045872, -1.55045872,  5.44954128,\n",
              "       -1.55045872, -2.55045872, 24.44954128,  0.44954128, -1.55045872,\n",
              "       -0.55045872,  8.44954128, 11.44954128,  1.44954128,  0.44954128,\n",
              "        8.44954128,  0.44954128, -2.55045872, -2.55045872, -2.55045872,\n",
              "       -2.55045872, -1.55045872, -2.55045872,  0.44954128, -2.55045872,\n",
              "       -2.55045872, -2.55045872, -3.55045872, -2.55045872, -2.55045872,\n",
              "       -3.55045872, -1.55045872,  1.44954128, -2.55045872, -1.55045872,\n",
              "       -2.55045872, -0.55045872, -3.55045872, -2.55045872, -2.55045872,\n",
              "       -3.55045872, -1.55045872, -2.55045872, 13.44954128, -2.55045872,\n",
              "       -1.55045872, -2.55045872, -2.55045872, -0.55045872, -2.55045872,\n",
              "        2.44954128, -2.55045872, -2.55045872, -3.55045872, -1.55045872,\n",
              "       -2.55045872, -2.55045872, -1.55045872, -1.55045872,  7.44954128,\n",
              "       -1.55045872,  5.44954128, -1.55045872, -1.55045872, -0.55045872,\n",
              "       -0.55045872, -1.55045872,  1.44954128, -1.55045872, -2.55045872,\n",
              "        7.44954128, -0.55045872, 23.44954128, -2.55045872])"
            ]
          },
          "metadata": {},
          "execution_count": 178
        }
      ],
      "source": [
        "# Sequência de desvios em relação à média das idades\n",
        "( idades - np.mean( idades ) )"
      ]
    },
    {
      "cell_type": "code",
      "execution_count": 179,
      "metadata": {
        "id": "rC1lhABBFAVf",
        "colab": {
          "base_uri": "https://localhost:8080/"
        },
        "outputId": "3c995f4e-4ab7-42ea-d587-ec6b3e62cdd6"
      },
      "outputs": [
        {
          "output_type": "execute_result",
          "data": {
            "text/plain": [
              "array([ -1.46330275,  14.53669725,   9.53669725,  -5.46330275,\n",
              "       -23.46330275,   9.53669725,  -3.46330275,  24.53669725,\n",
              "         4.53669725, -15.46330275,   9.53669725,  14.53669725,\n",
              "       -10.46330275,  -8.46330275,  -5.46330275, -11.46330275,\n",
              "        12.53669725,   9.53669725,  41.53669725,  -6.46330275,\n",
              "        -2.46330275,  -1.46330275,  -5.46330275,  -4.46330275,\n",
              "        10.53669725,   9.53669725,   3.53669725,  -0.46330275,\n",
              "        -7.46330275, -17.46330275,   5.53669725,  -5.46330275,\n",
              "        14.53669725,  22.53669725, -15.46330275, -11.46330275,\n",
              "       -21.46330275, -25.46330275,   7.53669725, -17.46330275,\n",
              "         6.53669725, -12.46330275,  25.53669725,  -5.46330275,\n",
              "        27.53669725, -22.46330275, -19.46330275,  27.53669725,\n",
              "         5.53669725,  54.53669725,  23.53669725,   4.53669725,\n",
              "         9.53669725, -10.46330275,   9.53669725,  -4.46330275,\n",
              "        17.03669725, -12.46330275,  21.53669725, -13.46330275,\n",
              "        -6.46330275, -13.46330275,   4.53669725, -11.46330275,\n",
              "        19.53669725,  -3.46330275, -10.46330275,   1.53669725,\n",
              "         2.53669725,  15.53669725,   4.53669725,  24.53669725,\n",
              "       -10.46330275,   4.53669725,  -5.46330275, -10.46330275,\n",
              "         2.53669725,  -7.46330275,   7.53669725,  -6.46330275,\n",
              "       -20.46330275,  -9.46330275,  -0.46330275, -10.46330275,\n",
              "       -13.46330275,  39.53669725,   0.53669725,  -5.46330275,\n",
              "        -3.46330275, -12.46330275,  19.53669725,  -6.46330275,\n",
              "        -0.46330275, -27.46330275, -20.46330275,   7.53669725,\n",
              "        11.53669725,  -9.46330275,  -0.46330275,  -0.46330275,\n",
              "        -0.46330275, -20.46330275,   1.53669725, -15.46330275,\n",
              "       -12.46330275, -20.46330275,  -0.46330275,  19.53669725,\n",
              "       -19.46330275])"
            ]
          },
          "metadata": {},
          "execution_count": 179
        }
      ],
      "source": [
        "# Sequência de desvios em relação à média das massas\n",
        "( massa - np.mean( massa ) )"
      ]
    },
    {
      "cell_type": "code",
      "execution_count": 53,
      "metadata": {
        "id": "9iWbRoBXFAY8",
        "colab": {
          "base_uri": "https://localhost:8080/"
        },
        "outputId": "4ceeb3e9-b703-4a32-ab9c-9ed6b980c412"
      },
      "outputs": [
        {
          "output_type": "execute_result",
          "data": {
            "text/plain": [
              "array([ -3.58715596,   4.41284404,   2.41284404,  -5.58715596,\n",
              "        -6.58715596,  12.41284404,  -7.58715596,  20.41284404,\n",
              "         2.41284404, -12.58715596,  -2.58715596,  -2.58715596,\n",
              "         1.41284404,  -3.58715596,   5.41284404,   6.41284404,\n",
              "         8.41284404,   2.41284404,  11.41284404,  -2.58715596,\n",
              "        -4.58715596,   7.41284404,   2.41284404,  -2.58715596,\n",
              "        -2.58715596,   0.41284404,  -2.58715596,  17.41284404,\n",
              "        -2.58715596,  -7.58715596,   5.41284404,   5.41284404,\n",
              "        10.41284404,   6.41284404,  -3.58715596,   6.41284404,\n",
              "       -19.58715596,  -2.58715596,  10.41284404,  -0.58715596,\n",
              "        -4.58715596, -19.58715596,  13.41284404,  -2.58715596,\n",
              "        -2.58715596, -15.58715596, -12.58715596,   3.41284404,\n",
              "         9.41284404,  11.41284404,  16.41284404,  -2.58715596,\n",
              "        -4.58715596,  21.41284404,  -2.58715596,   3.41284404,\n",
              "         0.41284404,  -6.58715596,   7.41284404, -12.58715596,\n",
              "        -5.58715596,   0.41284404,   0.41284404, -11.58715596,\n",
              "        -3.58715596,  -1.58715596,   5.41284404,  -4.58715596,\n",
              "        -2.58715596,  -8.58715596,  -8.58715596,   7.41284404,\n",
              "         2.41284404,   5.41284404,   2.41284404,  -3.58715596,\n",
              "         5.41284404,  -2.58715596,   2.41284404,  -8.58715596,\n",
              "         2.41284404,  -5.58715596,  -2.58715596,   7.41284404,\n",
              "        -9.58715596,  16.41284404,  -1.58715596,  -7.58715596,\n",
              "        -0.58715596,  -7.58715596,   2.41284404,  -2.58715596,\n",
              "         8.41284404,  -7.58715596, -20.58715596,   6.41284404,\n",
              "         6.41284404,   2.41284404,   7.41284404,   2.41284404,\n",
              "         0.41284404,  -2.58715596,   5.41284404,   4.41284404,\n",
              "       -19.58715596, -18.58715596,  10.41284404,  12.41284404,\n",
              "       -12.58715596])"
            ]
          },
          "metadata": {},
          "execution_count": 53
        }
      ],
      "source": [
        "# Sequência de desvios em relação à média das alturas\n",
        "( altura - np.mean( altura ) )"
      ]
    },
    {
      "cell_type": "markdown",
      "metadata": {
        "id": "sPiRjVfQnXiI"
      },
      "source": [
        "\n",
        "\n",
        "\n",
        "Desvios Absolutos:"
      ]
    },
    {
      "cell_type": "code",
      "execution_count": 180,
      "metadata": {
        "id": "1JthXgN1nZmx",
        "colab": {
          "base_uri": "https://localhost:8080/"
        },
        "outputId": "d9667469-b8f3-41fc-f2d6-7bbc738f09a4"
      },
      "outputs": [
        {
          "output_type": "execute_result",
          "data": {
            "text/plain": [
              "array([ 5.44954128,  3.55045872,  2.55045872,  2.55045872,  3.55045872,\n",
              "        1.44954128,  1.55045872,  2.55045872,  1.55045872,  1.55045872,\n",
              "        0.44954128,  1.55045872,  2.55045872,  0.55045872,  0.44954128,\n",
              "        0.55045872,  3.44954128,  0.44954128,  0.44954128,  2.55045872,\n",
              "       19.44954128,  2.55045872,  2.55045872,  2.55045872,  0.44954128,\n",
              "        5.44954128,  0.44954128,  0.55045872,  1.55045872,  2.55045872,\n",
              "        2.55045872,  2.55045872,  1.55045872,  3.44954128,  2.55045872,\n",
              "        0.55045872,  2.55045872,  1.55045872,  1.55045872,  5.44954128,\n",
              "        1.55045872,  2.55045872, 24.44954128,  0.44954128,  1.55045872,\n",
              "        0.55045872,  8.44954128, 11.44954128,  1.44954128,  0.44954128,\n",
              "        8.44954128,  0.44954128,  2.55045872,  2.55045872,  2.55045872,\n",
              "        2.55045872,  1.55045872,  2.55045872,  0.44954128,  2.55045872,\n",
              "        2.55045872,  2.55045872,  3.55045872,  2.55045872,  2.55045872,\n",
              "        3.55045872,  1.55045872,  1.44954128,  2.55045872,  1.55045872,\n",
              "        2.55045872,  0.55045872,  3.55045872,  2.55045872,  2.55045872,\n",
              "        3.55045872,  1.55045872,  2.55045872, 13.44954128,  2.55045872,\n",
              "        1.55045872,  2.55045872,  2.55045872,  0.55045872,  2.55045872,\n",
              "        2.44954128,  2.55045872,  2.55045872,  3.55045872,  1.55045872,\n",
              "        2.55045872,  2.55045872,  1.55045872,  1.55045872,  7.44954128,\n",
              "        1.55045872,  5.44954128,  1.55045872,  1.55045872,  0.55045872,\n",
              "        0.55045872,  1.55045872,  1.44954128,  1.55045872,  2.55045872,\n",
              "        7.44954128,  0.55045872, 23.44954128,  2.55045872])"
            ]
          },
          "metadata": {},
          "execution_count": 180
        }
      ],
      "source": [
        "# Desvios absolutos\n",
        "np.abs( idades - np.mean( idades ) )"
      ]
    },
    {
      "cell_type": "code",
      "execution_count": 55,
      "metadata": {
        "id": "jZwm_-q5FPqW",
        "colab": {
          "base_uri": "https://localhost:8080/"
        },
        "outputId": "b8980d2b-73a9-479d-ee5c-19650a24cf4e"
      },
      "outputs": [
        {
          "output_type": "execute_result",
          "data": {
            "text/plain": [
              "array([ 1.46330275, 14.53669725,  9.53669725,  5.46330275, 23.46330275,\n",
              "        9.53669725,  3.46330275, 24.53669725,  4.53669725, 15.46330275,\n",
              "        9.53669725, 14.53669725, 10.46330275,  8.46330275,  5.46330275,\n",
              "       11.46330275, 12.53669725,  9.53669725, 41.53669725,  6.46330275,\n",
              "        2.46330275,  1.46330275,  5.46330275,  4.46330275, 10.53669725,\n",
              "        9.53669725,  3.53669725,  0.46330275,  7.46330275, 17.46330275,\n",
              "        5.53669725,  5.46330275, 14.53669725, 22.53669725, 15.46330275,\n",
              "       11.46330275, 21.46330275, 25.46330275,  7.53669725, 17.46330275,\n",
              "        6.53669725, 12.46330275, 25.53669725,  5.46330275, 27.53669725,\n",
              "       22.46330275, 19.46330275, 27.53669725,  5.53669725, 54.53669725,\n",
              "       23.53669725,  4.53669725,  9.53669725, 10.46330275,  9.53669725,\n",
              "        4.46330275, 17.03669725, 12.46330275, 21.53669725, 13.46330275,\n",
              "        6.46330275, 13.46330275,  4.53669725, 11.46330275, 19.53669725,\n",
              "        3.46330275, 10.46330275,  1.53669725,  2.53669725, 15.53669725,\n",
              "        4.53669725, 24.53669725, 10.46330275,  4.53669725,  5.46330275,\n",
              "       10.46330275,  2.53669725,  7.46330275,  7.53669725,  6.46330275,\n",
              "       20.46330275,  9.46330275,  0.46330275, 10.46330275, 13.46330275,\n",
              "       39.53669725,  0.53669725,  5.46330275,  3.46330275, 12.46330275,\n",
              "       19.53669725,  6.46330275,  0.46330275, 27.46330275, 20.46330275,\n",
              "        7.53669725, 11.53669725,  9.46330275,  0.46330275,  0.46330275,\n",
              "        0.46330275, 20.46330275,  1.53669725, 15.46330275, 12.46330275,\n",
              "       20.46330275,  0.46330275, 19.53669725, 19.46330275])"
            ]
          },
          "metadata": {},
          "execution_count": 55
        }
      ],
      "source": [
        "# Desvios absolutos\n",
        "np.abs( massa - np.mean( massa ) )"
      ]
    },
    {
      "cell_type": "code",
      "execution_count": 181,
      "metadata": {
        "id": "h1zlTShIFP0M",
        "colab": {
          "base_uri": "https://localhost:8080/"
        },
        "outputId": "aef6d82f-7c7f-4f9e-cc47-58631a036c54"
      },
      "outputs": [
        {
          "output_type": "execute_result",
          "data": {
            "text/plain": [
              "array([ 3.58715596,  4.41284404,  2.41284404,  5.58715596,  6.58715596,\n",
              "       12.41284404,  7.58715596, 20.41284404,  2.41284404, 12.58715596,\n",
              "        2.58715596,  2.58715596,  1.41284404,  3.58715596,  5.41284404,\n",
              "        6.41284404,  8.41284404,  2.41284404, 11.41284404,  2.58715596,\n",
              "        4.58715596,  7.41284404,  2.41284404,  2.58715596,  2.58715596,\n",
              "        0.41284404,  2.58715596, 17.41284404,  2.58715596,  7.58715596,\n",
              "        5.41284404,  5.41284404, 10.41284404,  6.41284404,  3.58715596,\n",
              "        6.41284404, 19.58715596,  2.58715596, 10.41284404,  0.58715596,\n",
              "        4.58715596, 19.58715596, 13.41284404,  2.58715596,  2.58715596,\n",
              "       15.58715596, 12.58715596,  3.41284404,  9.41284404, 11.41284404,\n",
              "       16.41284404,  2.58715596,  4.58715596, 21.41284404,  2.58715596,\n",
              "        3.41284404,  0.41284404,  6.58715596,  7.41284404, 12.58715596,\n",
              "        5.58715596,  0.41284404,  0.41284404, 11.58715596,  3.58715596,\n",
              "        1.58715596,  5.41284404,  4.58715596,  2.58715596,  8.58715596,\n",
              "        8.58715596,  7.41284404,  2.41284404,  5.41284404,  2.41284404,\n",
              "        3.58715596,  5.41284404,  2.58715596,  2.41284404,  8.58715596,\n",
              "        2.41284404,  5.58715596,  2.58715596,  7.41284404,  9.58715596,\n",
              "       16.41284404,  1.58715596,  7.58715596,  0.58715596,  7.58715596,\n",
              "        2.41284404,  2.58715596,  8.41284404,  7.58715596, 20.58715596,\n",
              "        6.41284404,  6.41284404,  2.41284404,  7.41284404,  2.41284404,\n",
              "        0.41284404,  2.58715596,  5.41284404,  4.41284404, 19.58715596,\n",
              "       18.58715596, 10.41284404, 12.41284404, 12.58715596])"
            ]
          },
          "metadata": {},
          "execution_count": 181
        }
      ],
      "source": [
        "# Desvios absolutos\n",
        "np.abs( altura - np.mean( altura ) )"
      ]
    },
    {
      "cell_type": "code",
      "execution_count": 182,
      "metadata": {
        "id": "jdzLLV8-njOQ",
        "colab": {
          "base_uri": "https://localhost:8080/"
        },
        "outputId": "319c3e84-aac4-418d-a3ff-444ba02ead4a"
      },
      "outputs": [
        {
          "output_type": "stream",
          "name": "stdout",
          "text": [
            "Desvio médio das idades: 3.036444743708443\n",
            "Desvio médio das massas: 11.819964649440285\n",
            "Desvio médio das alturas: 6.665937210672502\n"
          ]
        }
      ],
      "source": [
        "#podemos fazer em uma linha\n",
        "desvio_medio = np.mean( np.abs( idades - np.mean( idades ) ) )\n",
        "desvio_medio_m = np.mean( np.abs( massa - np.mean( massa ) ) )\n",
        "desvio_medio_a = np.mean( np.abs( altura - np.mean( altura ) ) )\n",
        "\n",
        "print ( \"Desvio médio das idades: {}\".format( desvio_medio ) )\n",
        "print ( \"Desvio médio das massas: {}\".format( desvio_medio_m ) )\n",
        "print ( \"Desvio médio das alturas: {}\".format( desvio_medio_a ) )"
      ]
    },
    {
      "cell_type": "markdown",
      "metadata": {
        "id": "QOK1Oh4Vnu8P"
      },
      "source": [
        "Largura a meia altura (histograma):\n",
        "\n",
        "- Pode ser obtido via inspeção direta do histograma.\n",
        "\n",
        "- O fragmento de código abaixo automatiza o procedimento."
      ]
    },
    {
      "cell_type": "code",
      "execution_count": 191,
      "metadata": {
        "id": "evPEeYUxn1fG",
        "colab": {
          "base_uri": "https://localhost:8080/",
          "height": 626
        },
        "outputId": "a0d39619-a188-4d7c-f533-f5f90d51e4f5"
      },
      "outputs": [
        {
          "output_type": "stream",
          "name": "stdout",
          "text": [
            "Valor meia altura: 19.5\n",
            "val_I_meia_altura_1: 18.0\n",
            "val_I_meia_altura_2: 20.0\n",
            "Largura a meia altura: 2.0\n"
          ]
        },
        {
          "output_type": "display_data",
          "data": {
            "text/plain": [
              "<Figure size 800x600 with 1 Axes>"
            ],
            "image/png": "[encoded data removed]"
          },
          "metadata": {}
        }
      ],
      "source": [
        "fig = plt.figure( figsize=(8,6) )\n",
        "\n",
        "x_min = 18.0\n",
        "x_max = 40.0\n",
        "\n",
        "counts, bins, _ = plt.hist( idades, bins=22, range=(x_min, x_max) )\n",
        "\n",
        "valor_maximo = np.max( counts )\n",
        "\n",
        "valor_meia_altura = valor_maximo / 2\n",
        "\n",
        "print ( \"Valor meia altura: {}\".format( valor_meia_altura ) )\n",
        "\n",
        "plt.plot( (x_min,x_max),(valor_meia_altura,valor_meia_altura), 'k-', linewidth=0.5 )\n",
        "\n",
        "idx_bin_1 = np.argmax( counts >= valor_meia_altura )\n",
        "idx_bin_2 = counts.size - np.argmax( counts[::-1] >= valor_meia_altura ) - 1\n",
        "\n",
        "val_I_meia_altura_1 = bins[ idx_bin_1 ]\n",
        "val_I_meia_altura_2 = bins[ idx_bin_2 + 1 ]\n",
        "print ( \"val_I_meia_altura_1: {}\".format( val_I_meia_altura_1 ) )\n",
        "print ( \"val_I_meia_altura_2: {}\".format( val_I_meia_altura_2 ) )\n",
        "\n",
        "plt.arrow( val_I_meia_altura_1, valor_maximo/2+1.3 , 0., -1., head_width=0.3, head_length=0.3 )\n",
        "plt.arrow( val_I_meia_altura_2, valor_maximo/2+1.3 , 0., -1., head_width=0.3, head_length=0.3 )\n",
        "\n",
        "plt.xlim( 15.0, 50.0 )\n",
        "plt.xlabel( \"Idades (anos)\", fontsize=18 )\n",
        "plt.ylabel( \"Frequência\", fontsize=18 )\n",
        "\n",
        "largura_meia_altura = ( val_I_meia_altura_2 - val_I_meia_altura_1 )\n",
        "print ( \"Largura a meia altura: {}\".format( largura_meia_altura ) )"
      ]
    },
    {
      "cell_type": "code",
      "execution_count": 194,
      "metadata": {
        "id": "oli-nse8p6ov",
        "colab": {
          "base_uri": "https://localhost:8080/",
          "height": 589
        },
        "outputId": "0ed5fb57-1a56-4390-e21b-dda496888564"
      },
      "outputs": [
        {
          "output_type": "stream",
          "name": "stdout",
          "text": [
            "Média quadrática: 21.133911181673458\n",
            "Média: 20.55045871559633\n"
          ]
        },
        {
          "output_type": "display_data",
          "data": {
            "text/plain": [
              "<Figure size 800x600 with 1 Axes>"
            ],
            "image/png": "[encoded data removed]"
          },
          "metadata": {}
        }
      ],
      "source": [
        "fig = plt.figure( figsize=(8,6) )\n",
        "counts, bins, _ = plt.hist( idades, bins=35, range=(15,50) )\n",
        "plt.xlim( 15, 50 )\n",
        "plt.xlabel( \"Idades (anos)\", fontsize=18 )\n",
        "plt.ylabel( \"Frequência\", fontsize=18 )\n",
        "print ( \"Média quadrática: {}\".format( np.sqrt( msomax2 ) ) )\n",
        "print ( \"Média: {}\".format( media ) )"
      ]
    },
    {
      "cell_type": "markdown",
      "metadata": {
        "id": "y8tjreqUSwCg"
      },
      "source": [
        "\n",
        "## Exercícios:\n",
        "1. Altere a **classe de frequência** do histograma acima, para termos um intervalo de **5 anos** entre as idades e construa o histograma correspondente.\n",
        "\n",
        "\n",
        "2. Para construir esse histograma, usamos a **função** (ou **método**) *hist* de um **módulo** de Python, o *matplotlib*, cuja documentação se encontra [aqui](https://matplotlib.org/3.2.1/api/_as_gen/matplotlib.pyplot.hist.html#matplotlib.pyplot.hist). Baseando-se nessa documentação (ou qualquer outra que você encontre), mude a **cor** do histograma.\n",
        "\n",
        "3. Defina um outro conjunto e construa o histograma desse conjunto. Tente definir qual a melhor classe de frequência antes de construir seu histograma e veja o que acontece se você aumentar ou diminuir a classe de frequência (bins)."
      ]
    },
    {
      "cell_type": "markdown",
      "metadata": {
        "id": "kOepRhZD4q35"
      },
      "source": [
        "##Diagramas de Dispersão\n",
        "Abaixo, apresentamos como o exemplo o diagrama de dispersão altura (cms) x massa (kg)."
      ]
    },
    {
      "cell_type": "markdown",
      "metadata": {
        "id": "GIuMKsmAeqbO"
      },
      "source": [
        "Correlação massa vs altura:"
      ]
    },
    {
      "cell_type": "code",
      "execution_count": 196,
      "metadata": {
        "id": "K2YO95OG5VP6",
        "colab": {
          "base_uri": "https://localhost:8080/",
          "height": 574
        },
        "outputId": "49e21723-293b-4a34-fda3-098121860204"
      },
      "outputs": [
        {
          "output_type": "display_data",
          "data": {
            "text/plain": [
              "<Figure size 800x600 with 1 Axes>"
            ],
            "image/png": "[encoded data removed]"
          },
          "metadata": {}
        }
      ],
      "source": [
        "fig = plt.figure( figsize=(8,6) )\n",
        "\n",
        "plt.plot(massa,altura,'o')\n",
        "plt.xlim( 40, 100 )\n",
        "plt.ylim(145, 200 )\n",
        "plt.title('Diagrama de dispersão massa (kg) x altura (cm)')\n",
        "plt.xlabel( \"Massa (kg)\", fontsize=18 )\n",
        "plt.ylabel( \"Altura (cm)\", fontsize=18 )\n",
        "plt.grid()\n"
      ]
    },
    {
      "cell_type": "markdown",
      "metadata": {
        "id": "wlzG9M2HBTaf"
      },
      "source": [
        "\n",
        "Correlação Idade vs Altura:\n",
        "\n"
      ]
    },
    {
      "cell_type": "code",
      "execution_count": 198,
      "metadata": {
        "id": "anF9XitTe_eq",
        "colab": {
          "base_uri": "https://localhost:8080/",
          "height": 574
        },
        "outputId": "e7597653-bf7d-486d-db9d-954f6595a507"
      },
      "outputs": [
        {
          "output_type": "display_data",
          "data": {
            "text/plain": [
              "<Figure size 800x600 with 1 Axes>"
            ],
            "image/png": "[encoded data removed]"
          },
          "metadata": {}
        }
      ],
      "source": [
        "fig = plt.figure( figsize=(8,6) )\n",
        "\n",
        "plt.plot( idades, altura, 'o' )\n",
        "plt.xlim( 16, 50 )\n",
        "plt.ylim(140, 200 )\n",
        "plt.title('Diagrama de dispersão idade (anos) x altura (cm)')\n",
        "plt.xlabel( \"Idade (anos)\", fontsize=18 )\n",
        "plt.ylabel( \"Altura (cm)\", fontsize=18 )\n",
        "plt.grid()\n"
      ]
    },
    {
      "cell_type": "markdown",
      "metadata": {
        "id": "gtW6bZbUfAU6"
      },
      "source": [
        "Correlação Idade vs Peso:"
      ]
    },
    {
      "cell_type": "code",
      "execution_count": 199,
      "metadata": {
        "id": "V2NmFZe_fC7a",
        "colab": {
          "base_uri": "https://localhost:8080/",
          "height": 574
        },
        "outputId": "d5620f26-d3bb-4106-a60e-5babb64cabde"
      },
      "outputs": [
        {
          "output_type": "display_data",
          "data": {
            "text/plain": [
              "<Figure size 800x600 with 1 Axes>"
            ],
            "image/png": "[encoded data removed]"
          },
          "metadata": {}
        }
      ],
      "source": [
        "fig = plt.figure( figsize=(8,6) )\n",
        "\n",
        "plt.plot( idades, massa, 'o' )\n",
        "plt.xlim( 16, 50 )\n",
        "plt.ylim( 40., 100. )\n",
        "plt.title('Diagrama de dispersão idade (anos) x massa (kg)')\n",
        "plt.xlabel( \"Idade (anos)\", fontsize=18 )\n",
        "plt.ylabel( \"Massa (kg)\", fontsize=18 )\n",
        "plt.grid()"
      ]
    },
    {
      "cell_type": "markdown",
      "metadata": {
        "id": "wKlunHeR4p1N"
      },
      "source": [
        "Cálculo das variâncias:"
      ]
    },
    {
      "cell_type": "code",
      "execution_count": 200,
      "metadata": {
        "id": "KZegCWPQ4o5p",
        "colab": {
          "base_uri": "https://localhost:8080/"
        },
        "outputId": "91db9098-51df-4be6-951b-dcf52a5a1f38"
      },
      "outputs": [
        {
          "output_type": "execute_result",
          "data": {
            "text/plain": [
              "24.32084841343317"
            ]
          },
          "metadata": {},
          "execution_count": 200
        }
      ],
      "source": [
        "# Diferença entre média dos quadrados e quadrado da média\n",
        "np.mean( x2 ) - np.mean( idades ) ** 2"
      ]
    },
    {
      "cell_type": "code",
      "execution_count": 201,
      "metadata": {
        "id": "-j-gF8IC8CLo",
        "colab": {
          "base_uri": "https://localhost:8080/"
        },
        "outputId": "505a6014-3889-42ed-c4b0-a8a1d106a385"
      },
      "outputs": [
        {
          "output_type": "execute_result",
          "data": {
            "text/plain": [
              "226.0353505597186"
            ]
          },
          "metadata": {},
          "execution_count": 201
        }
      ],
      "source": [
        "np.mean( x2_m ) - np.mean( massa ) ** 2"
      ]
    },
    {
      "cell_type": "code",
      "execution_count": 202,
      "metadata": {
        "id": "Scn1o5os8DHf",
        "colab": {
          "base_uri": "https://localhost:8080/"
        },
        "outputId": "9684ce7e-ba6f-4b81-c962-2ab838f091d4"
      },
      "outputs": [
        {
          "output_type": "execute_result",
          "data": {
            "text/plain": [
              "71.71029374631325"
            ]
          },
          "metadata": {},
          "execution_count": 202
        }
      ],
      "source": [
        "np.mean( x2_a ) - np.mean( altura ) ** 2"
      ]
    },
    {
      "cell_type": "markdown",
      "metadata": {
        "id": "V7u8GhoQ-5H5"
      },
      "source": [
        "Usando NumPy:"
      ]
    },
    {
      "cell_type": "code",
      "execution_count": 203,
      "metadata": {
        "id": "hN-htx9y-6Ig",
        "colab": {
          "base_uri": "https://localhost:8080/"
        },
        "outputId": "4a79d894-dbb8-44d8-fe73-98ad1162f73c"
      },
      "outputs": [
        {
          "output_type": "execute_result",
          "data": {
            "text/plain": [
              "24.32084841343321"
            ]
          },
          "metadata": {},
          "execution_count": 203
        }
      ],
      "source": [
        "var_Idade = np.var( idades, ddof=0 )\n",
        "var_Idade"
      ]
    },
    {
      "cell_type": "code",
      "execution_count": 204,
      "metadata": {
        "id": "p4R-Sgzg-_bs",
        "colab": {
          "base_uri": "https://localhost:8080/"
        },
        "outputId": "23a451f7-e57c-459a-b2ea-85bc9fbd604c"
      },
      "outputs": [
        {
          "output_type": "execute_result",
          "data": {
            "text/plain": [
              "226.03535055971722"
            ]
          },
          "metadata": {},
          "execution_count": 204
        }
      ],
      "source": [
        "var_Massa = np.var( massa, ddof=0 )\n",
        "var_Massa"
      ]
    },
    {
      "cell_type": "code",
      "execution_count": 205,
      "metadata": {
        "id": "rpD0rI5U_DfW",
        "colab": {
          "base_uri": "https://localhost:8080/"
        },
        "outputId": "f2321b50-3ef8-465c-c76f-9f2e6e392449"
      },
      "outputs": [
        {
          "output_type": "execute_result",
          "data": {
            "text/plain": [
              "71.71029374631766"
            ]
          },
          "metadata": {},
          "execution_count": 205
        }
      ],
      "source": [
        "var_Altura = np.var( altura, ddof=0 )\n",
        "var_Altura"
      ]
    },
    {
      "cell_type": "markdown",
      "metadata": {
        "id": "De4FI-Dz_OXx"
      },
      "source": [
        "Cálculo das covariâncias:"
      ]
    },
    {
      "cell_type": "code",
      "execution_count": 206,
      "metadata": {
        "id": "pEG3T2NV_RnT",
        "colab": {
          "base_uri": "https://localhost:8080/"
        },
        "outputId": "2bead53e-8d11-4828-b652-fd5849fb6cd2"
      },
      "outputs": [
        {
          "output_type": "stream",
          "name": "stdout",
          "text": [
            "[1794.  1445.  1440.  1170.   799.  1760.  1273.  1710.  1425.  1045.\n",
            " 1680.  1615.  1080.  1240.  1365.  1180.  1992.  1680.  2352.  1152.\n",
            " 2720.  1242.  1170.  1188.  1701.  2080.  1554.  1400.  1197.   954.\n",
            " 1368.  1170.  1615.  2232.   990.  1180.   882.   855.  1482.  1378.\n",
            " 1463.  1044.  4320.  1365.  1862.   960.  1479.  3136.  1672.  2625.\n",
            " 2726.  1575.  1440.  1080.  1440.  1188.  1662.5 1044.  1932.  1026.\n",
            " 1152.  1026.  1275.  1062.  1620.  1139.  1140.  1584.  1314.  1634.\n",
            " 1350.  1900.  1020.  1350.  1170.  1020.  1387.  1134.  2652.  1152.\n",
            "  950.  1098.  1260.  1200.  1026.  2530.  1278.  1170.  1139.  1102.\n",
            " 1620.  1152.  1330.   817.  1400.  1482.  2132.  1159.  1330.  1400.\n",
            " 1400.   950.  1584.  1045.  1044.  1400.  1400.  3960.   918. ]\n"
          ]
        }
      ],
      "source": [
        "# Sequência com valores dos produtos dos elementos de mesmo índice dos arrays\n",
        "#idades * massa\n",
        "product_IxM = np.multiply(idades,massa)\n",
        "print(product_IxM)"
      ]
    },
    {
      "cell_type": "code",
      "execution_count": 207,
      "metadata": {
        "id": "FTaTkH8NBbmU",
        "colab": {
          "base_uri": "https://localhost:8080/"
        },
        "outputId": "63a8bb68-bea0-47b1-baee-2c584cd194ff"
      },
      "outputs": [
        {
          "output_type": "stream",
          "name": "stdout",
          "text": [
            "[4394. 3009. 3150. 3006. 2822. 4070. 3135. 3474. 3325. 3040. 3570. 3230.\n",
            " 3132. 3380. 3738. 3580. 4344. 3675. 3864. 3060. 6720. 3240. 3150. 3060.\n",
            " 3570. 4498. 3570. 3800. 3230. 2970. 3204. 3204. 3477. 4296. 3042. 3580.\n",
            " 2754. 3230. 3477. 4472. 3192. 2754. 8370. 3570. 3230. 3140. 4640. 5632.\n",
            " 4004. 3864. 5481. 3570. 3024. 3492. 3060. 3168. 3287. 2988. 3780. 2880.\n",
            " 3006. 3114. 2941. 2898. 3042. 2907. 3382. 3696. 3060. 3116. 2952. 3600.\n",
            " 2975. 3204. 3150. 2873. 3382. 3060. 5950. 2952. 3325. 3006. 3060. 3600.\n",
            " 2934. 4347. 3078. 2970. 2924. 3135. 3150. 3060. 3439. 3135. 4256. 3401.\n",
            " 4654. 3325. 3420. 3500. 3460. 3230. 3916. 3363. 2754. 4312. 3660. 8140.\n",
            " 2880.]\n"
          ]
        }
      ],
      "source": [
        "product_IxA = np.multiply(idades,altura)\n",
        "print(product_IxA)"
      ]
    },
    {
      "cell_type": "code",
      "execution_count": 208,
      "metadata": {
        "id": "mwP2KjIfBb3e",
        "colab": {
          "base_uri": "https://localhost:8080/"
        },
        "outputId": "83ad9d35-2278-41ac-b118-5c043a436910"
      },
      "outputs": [
        {
          "output_type": "stream",
          "name": "stdout",
          "text": [
            "[11661.  15045.  14000.  10855.   7802.  14800.  11055.  18335.  13125.\n",
            "  8800.  13600.  14450.  10440.  10478.  11570.  10561.  15023.  14000.\n",
            " 20608.  10880.  11424.  12420.  11375.  11220.  13770.  13840.  12580.\n",
            " 13300.  10710.   8745.  13528.  11570.  15555.  16647.   9295.  10561.\n",
            "  7497.   7650.  14274.   9116.  12936.   8874.  17856.  11050.  16660.\n",
            "  7536.   8160.  17248.  13832.  23000.  17766.  12750.  13440.  11640.\n",
            " 13600.  11616.  15137.5  9628.  16560.   9120.  10688.   9861.  12975.\n",
            "  9499.  15210.  11457.  10680.  12096.  12410.  14104.  12300.  17100.\n",
            " 10500.  13350.  11375.  10140.  12994.  10710.  13650.  10496.   8750.\n",
            " 10187.  11900.  10800.   9291.  20790.  12141.  10725.  11524.   9570.\n",
            " 15750.  10880.  12670.   7095.   7600.  13962.  14678.  10675.  12600.\n",
            " 12250.  12110.   8500.  12816.   9735.   8874.   7700.  12810.  16650.\n",
            "  8160. ]\n"
          ]
        }
      ],
      "source": [
        "product_MxA = np.multiply(massa,altura)\n",
        "print(product_MxA)"
      ]
    },
    {
      "cell_type": "code",
      "execution_count": 209,
      "metadata": {
        "id": "PGNgOHOWA8fo",
        "colab": {
          "base_uri": "https://localhost:8080/"
        },
        "outputId": "8a6dc1ca-3b04-4a14-e81e-5c8081eb5d97"
      },
      "outputs": [
        {
          "output_type": "execute_result",
          "data": {
            "text/plain": [
              "19.39175995286587"
            ]
          },
          "metadata": {},
          "execution_count": 209
        }
      ],
      "source": [
        "# Covariância: diferença entre média dos produtos e produto das médias\n",
        "np.mean(product_IxM  ) - np.mean( idades ) * np.mean( massa )"
      ]
    },
    {
      "cell_type": "code",
      "execution_count": 210,
      "metadata": {
        "id": "rv8QlD-jBZNF",
        "colab": {
          "base_uri": "https://localhost:8080/"
        },
        "outputId": "60d3e332-633e-4905-d0ab-1d6f5d513c68"
      },
      "outputs": [
        {
          "output_type": "execute_result",
          "data": {
            "text/plain": [
              "7.034593047722865"
            ]
          },
          "metadata": {},
          "execution_count": 210
        }
      ],
      "source": [
        "np.mean(product_IxA  ) - np.mean( idades ) * np.mean( altura )"
      ]
    },
    {
      "cell_type": "code",
      "execution_count": 211,
      "metadata": {
        "id": "ji5J189kByxo",
        "colab": {
          "base_uri": "https://localhost:8080/"
        },
        "outputId": "79bc83be-81e2-4fc0-a560-b7f75f15b249"
      },
      "outputs": [
        {
          "output_type": "execute_result",
          "data": {
            "text/plain": [
              "71.6224644390204"
            ]
          },
          "metadata": {},
          "execution_count": 211
        }
      ],
      "source": [
        "np.mean(product_MxA  ) - np.mean( massa ) * np.mean( altura )"
      ]
    },
    {
      "cell_type": "markdown",
      "metadata": {
        "id": "xUI1UUp7CDFc"
      },
      "source": [
        "Usando NumPy:\n",
        "\n",
        "\n"
      ]
    },
    {
      "cell_type": "code",
      "execution_count": 212,
      "metadata": {
        "id": "Sg3yWX23CLjR",
        "colab": {
          "base_uri": "https://localhost:8080/"
        },
        "outputId": "f8ebf065-d105-49e1-929d-2cc814e6a4d4"
      },
      "outputs": [
        {
          "output_type": "execute_result",
          "data": {
            "text/plain": [
              "array([[ 24.32084841,  19.39175995],\n",
              "       [ 19.39175995, 226.03535056]])"
            ]
          },
          "metadata": {},
          "execution_count": 212
        }
      ],
      "source": [
        "# (Idade, Peso)\n",
        "cov_Idade_Peso = np.cov( idades, massa, ddof=0 )\n",
        "cov_Idade_Peso"
      ]
    },
    {
      "cell_type": "code",
      "execution_count": 213,
      "metadata": {
        "id": "0MU8iNG1Cle9",
        "colab": {
          "base_uri": "https://localhost:8080/"
        },
        "outputId": "d4c36285-4aea-488b-e40f-55627801a7af"
      },
      "outputs": [
        {
          "output_type": "execute_result",
          "data": {
            "text/plain": [
              "24.32084841343322"
            ]
          },
          "metadata": {},
          "execution_count": 213
        }
      ],
      "source": [
        "# Variância Idade\n",
        "cov_Idade_Peso[0,0]"
      ]
    },
    {
      "cell_type": "code",
      "execution_count": 214,
      "metadata": {
        "id": "W0dWW7lxCnSY",
        "colab": {
          "base_uri": "https://localhost:8080/"
        },
        "outputId": "282b847c-1197-4701-90f5-f3b663f4284f"
      },
      "outputs": [
        {
          "output_type": "execute_result",
          "data": {
            "text/plain": [
              "226.03535055971747"
            ]
          },
          "metadata": {},
          "execution_count": 214
        }
      ],
      "source": [
        "# Variância Idade\n",
        "cov_Idade_Peso[1,1]"
      ]
    },
    {
      "cell_type": "code",
      "execution_count": 215,
      "metadata": {
        "id": "exuE5mtMCq_D",
        "colab": {
          "base_uri": "https://localhost:8080/"
        },
        "outputId": "64dfc1a3-968b-4e8f-d26b-a899da1863d8"
      },
      "outputs": [
        {
          "output_type": "execute_result",
          "data": {
            "text/plain": [
              "19.391759952865915"
            ]
          },
          "metadata": {},
          "execution_count": 215
        }
      ],
      "source": [
        "# Covariância (Idade,Peso)\n",
        "cov_Idade_Peso[0,1]"
      ]
    },
    {
      "cell_type": "code",
      "execution_count": 216,
      "metadata": {
        "id": "s8Xp4pc8CxLd",
        "colab": {
          "base_uri": "https://localhost:8080/"
        },
        "outputId": "c9fb84b3-3755-436f-a562-b6b9aa74d71e"
      },
      "outputs": [
        {
          "output_type": "execute_result",
          "data": {
            "text/plain": [
              "0.2615409417987895"
            ]
          },
          "metadata": {},
          "execution_count": 216
        }
      ],
      "source": [
        "# Coeficiente de correlação\n",
        "cov_Idade_Peso[0,1] / ( np.sqrt( var_Idade ) * np.sqrt( var_Massa ) )"
      ]
    },
    {
      "cell_type": "code",
      "execution_count": 217,
      "metadata": {
        "id": "Q2-RCtpnDON_",
        "colab": {
          "base_uri": "https://localhost:8080/"
        },
        "outputId": "3d30a2cb-6cbe-40d1-c5a2-ac7f9a7d7a47"
      },
      "outputs": [
        {
          "output_type": "execute_result",
          "data": {
            "text/plain": [
              "array([[24.32084841,  7.03459305],\n",
              "       [ 7.03459305, 71.71029375]])"
            ]
          },
          "metadata": {},
          "execution_count": 217
        }
      ],
      "source": [
        "# (Idade, Altura)\n",
        "cov_Idade_Altura = np.cov( idades, altura, ddof=0 )\n",
        "cov_Idade_Altura"
      ]
    },
    {
      "cell_type": "code",
      "execution_count": 218,
      "metadata": {
        "id": "LqXOhQxxDe5K",
        "colab": {
          "base_uri": "https://localhost:8080/"
        },
        "outputId": "4b62ae9f-9e74-4e2a-ef36-c35f30c7fe86"
      },
      "outputs": [
        {
          "output_type": "execute_result",
          "data": {
            "text/plain": [
              "24.32084841343322"
            ]
          },
          "metadata": {},
          "execution_count": 218
        }
      ],
      "source": [
        "# Variância Idade\n",
        "cov_Idade_Altura[0,0]"
      ]
    },
    {
      "cell_type": "code",
      "execution_count": 219,
      "metadata": {
        "id": "zaud4HMuDjYU",
        "colab": {
          "base_uri": "https://localhost:8080/"
        },
        "outputId": "4903952f-1097-47b0-a646-9e5786667a80"
      },
      "outputs": [
        {
          "output_type": "execute_result",
          "data": {
            "text/plain": [
              "71.71029374631767"
            ]
          },
          "metadata": {},
          "execution_count": 219
        }
      ],
      "source": [
        "# Variância Altura\n",
        "cov_Idade_Altura[1,1]"
      ]
    },
    {
      "cell_type": "code",
      "execution_count": 220,
      "metadata": {
        "id": "ehUnAgbLDtyC",
        "colab": {
          "base_uri": "https://localhost:8080/"
        },
        "outputId": "ef014fd4-4eaf-4474-8da8-76914a1f4c1b"
      },
      "outputs": [
        {
          "output_type": "execute_result",
          "data": {
            "text/plain": [
              "7.034593047723258"
            ]
          },
          "metadata": {},
          "execution_count": 220
        }
      ],
      "source": [
        "# Covariância (Idade,Altura)\n",
        "cov_Idade_Altura[0,1]"
      ]
    },
    {
      "cell_type": "code",
      "execution_count": 221,
      "metadata": {
        "id": "t4LRW2JLDxLX",
        "colab": {
          "base_uri": "https://localhost:8080/"
        },
        "outputId": "1525d267-493b-40d7-ec22-e20a7bd4bc6c"
      },
      "outputs": [
        {
          "output_type": "execute_result",
          "data": {
            "text/plain": [
              "0.16844528821021898"
            ]
          },
          "metadata": {},
          "execution_count": 221
        }
      ],
      "source": [
        "# Coeficiente de correlação\n",
        "cov_Idade_Altura[0,1] / ( np.sqrt( var_Idade ) * np.sqrt( var_Altura ) )"
      ]
    },
    {
      "cell_type": "code",
      "execution_count": 222,
      "metadata": {
        "id": "I61KeIQCD0bz",
        "colab": {
          "base_uri": "https://localhost:8080/"
        },
        "outputId": "ff03f1b3-6582-4531-eab4-9a86957d43ed"
      },
      "outputs": [
        {
          "output_type": "execute_result",
          "data": {
            "text/plain": [
              "array([[226.03535056,  71.62246444],\n",
              "       [ 71.62246444,  71.71029375]])"
            ]
          },
          "metadata": {},
          "execution_count": 222
        }
      ],
      "source": [
        "# (Peso, Altura)\n",
        "cov_Peso_Altura = np.cov( massa, altura, ddof=0 )\n",
        "cov_Peso_Altura"
      ]
    },
    {
      "cell_type": "code",
      "execution_count": 223,
      "metadata": {
        "id": "tz08mWMLD6qp",
        "colab": {
          "base_uri": "https://localhost:8080/"
        },
        "outputId": "0999727d-f3e7-40cc-c969-42ae27383d49"
      },
      "outputs": [
        {
          "output_type": "execute_result",
          "data": {
            "text/plain": [
              "226.03535055971747"
            ]
          },
          "metadata": {},
          "execution_count": 223
        }
      ],
      "source": [
        "# Variância Massa\n",
        "cov_Peso_Altura[0,0]"
      ]
    },
    {
      "cell_type": "code",
      "execution_count": 224,
      "metadata": {
        "id": "IKaM8tH6D-x_",
        "colab": {
          "base_uri": "https://localhost:8080/"
        },
        "outputId": "24c4bfc5-1238-464a-fc30-5e80e67ba161"
      },
      "outputs": [
        {
          "output_type": "execute_result",
          "data": {
            "text/plain": [
              "71.71029374631767"
            ]
          },
          "metadata": {},
          "execution_count": 224
        }
      ],
      "source": [
        "# Variância Altura\n",
        "cov_Peso_Altura[1,1]"
      ]
    },
    {
      "cell_type": "code",
      "execution_count": 225,
      "metadata": {
        "id": "sPb9W7GIEJj0",
        "colab": {
          "base_uri": "https://localhost:8080/"
        },
        "outputId": "acceb422-c4a4-44d0-fae8-313d44151b76"
      },
      "outputs": [
        {
          "output_type": "execute_result",
          "data": {
            "text/plain": [
              "71.62246443902026"
            ]
          },
          "metadata": {},
          "execution_count": 225
        }
      ],
      "source": [
        "# Covariância (Peso,Altura)\n",
        "cov_Peso_Altura[0,1]"
      ]
    },
    {
      "cell_type": "code",
      "execution_count": 226,
      "metadata": {
        "id": "JUKS2SeMEOPt",
        "colab": {
          "base_uri": "https://localhost:8080/"
        },
        "outputId": "c47dc36c-4f96-4839-832b-f140b6000c99"
      },
      "outputs": [
        {
          "output_type": "execute_result",
          "data": {
            "text/plain": [
              "0.562561914401001"
            ]
          },
          "metadata": {},
          "execution_count": 226
        }
      ],
      "source": [
        "# Coeficiente de correlação\n",
        "cov_Peso_Altura[0,1] / ( np.sqrt( var_Massa ) * np.sqrt( var_Altura ) )"
      ]
    }
  ],
  "metadata": {
    "colab": {
      "provenance": [],
      "include_colab_link": true
    },
    "kernelspec": {
      "display_name": "Python 3",
      "name": "python3"
    }
  },
  "nbformat": 4,
  "nbformat_minor": 0
}