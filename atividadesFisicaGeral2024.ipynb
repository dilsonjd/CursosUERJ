{
  "cells": [
    {
      "cell_type": "markdown",
      "metadata": {
        "id": "view-in-github",
        "colab_type": "text"
      },
      "source": [
        "<a href=\"https://colab.research.google.com/github/dilsonjd/CursosUERJ/blob/main/atividadesFisicaGeral2024.ipynb\" target=\"_parent\"><img src=\"https://colab.research.google.com/assets/colab-badge.svg\" alt=\"Open In Colab\"/></a>"
      ]
    },
    {
      "cell_type": "markdown",
      "metadata": {
        "id": "XaNhcQ395QEd"
      },
      "source": [
        "# Como visualizar dados usando Python\n",
        "\n",
        "Vamos aprender aqui como visualizar um conjunto de dados utilizando Python como ferramenta. O nosso objetivo é construir **histogramas** e **gráficos**.\n",
        "\n",
        "A ferramenta que estamos usando é o [Google Colaboratory](https://colab.research.google.com/).\n",
        "\n",
        "O [Google Colaboratory](https://colab.research.google.com/) é um ambiente no seu navegador que usa a nuvem do Google. É construído em cima do [Jupyter Notebook](https://jupyter.org/) e usa Python como linguagem de programação.\n",
        "\n",
        "Em outras palavras, vamos aprender a **programar** histogramas e gráficos para visualizar dados, usando uma linguagem de programação chamada **Python**.\n",
        "\n",
        "### Mas o que é Python?\n",
        "\n",
        "Python é uma **linguagem de programação** de propósito geral.\n",
        "\n",
        "É uma das linguagens de programação mais usadas no mundo atualmente.\n",
        "\n",
        "   + É intuitiva e de rápida aprendizagem.\n",
        "   + Integra uma vasta biblioteca para computação científica e análise de dados: matplotlib, NumPy, pandas, SciPy, statsmodel, scikit-learn, etc.\n",
        "   + É \"portátil\": o código escrito em Python pode ser processado em qualquer sistema ou plataforma.\n",
        "\n",
        "\n",
        "Para mais informações, você pode acessar o site oficial de [Python](https://www.python.org/) (em inglês) ou [Python-Brasil](https://www.python.org.br/).\n",
        "\n",
        "\n",
        "### O que são histogramas?\n",
        "Um histograma é uma forma de representar um conjunto de dados. Em particular, um histograma representa a frequência com que um determinado valor aparece em um determinado conjunto contínuo de dados.\n",
        "\n",
        "Por exemplo, se considerarmos o seguinte conjunto de idades de um grupo de pessoas"
      ]
    },
    {
      "cell_type": "markdown",
      "metadata": {
        "id": "4xaxuvgmNEOg"
      },
      "source": [
        "1. Qual é a menor idade?\n",
        "1. E a maior?\n",
        "1. Qual a diferença entre a menor e a maior idade?\n",
        "1. Qual é a idade que aparece com maior frequência?"
      ]
    },
    {
      "cell_type": "markdown",
      "metadata": {
        "id": "JXjczaOcOLvm"
      },
      "source": [
        "## Representação do conjunto das idades\n",
        "Abaixo, colocamos as idades em um **histograma**, onde consideramos intervalos de 1 ano para representar as idades.\n",
        "\n",
        "**Observação**: para rodar o código abaixo e produzir o histograma, basta clicar na setinha que se encontra no canto esquerdo ao alto."
      ]
    },
    {
      "cell_type": "code",
      "execution_count": null,
      "metadata": {
        "id": "BDvYdHrvNdNI"
      },
      "outputs": [],
      "source": [
        "import numpy as np\n",
        "import matplotlib as mpl\n",
        "import matplotlib.pyplot as plt\n",
        "\n",
        "\n"
      ]
    },
    {
      "cell_type": "code",
      "execution_count": null,
      "metadata": {
        "id": "SEA4ZGy7r7Qj"
      },
      "outputs": [],
      "source": [
        "idades = [26, 17, 18, 18, 17, 22, 19, 18, 19, 19.0, 21.0, 19.0, 18.0, 20.0, 21.0, 20.0, 24.0, 21.0, 21.0,18.0,40.0,18.0,18.0,18.0,21.0,26.0,21.0,20.0,19.0,18.0,18.0,18.0,19.0,24.0,18.0,20.0,18.0,19.0,19.0,26.0,19.0,18.0,45.0,21.0,19.0,20.0,29.0,32.0,22.0,21.0,29.0,21.0,18, 18, 18, 18, 19, 18, 21, 18, 18, 18, 17, 18, 18, 17, 19, 22, 18, 19, 18, 20, 17, 18, 18, 17, 19, 18, 34, 18, 19, 18, 18, 20, 18, 23, 18, 18, 17, 19, 18, 18, 19, 19, 28, 19, 26, 19, 19, 20, 20, 19, 22, 19, 18, 28, 20, 44, 18]\n",
        "massa = [69, 85, 80, 65, 47, 80, 67, 95, 75, 55.0, 80.0, 85.0, 60.0, 62.0, 65.0, 59.0, 83.0, 80.0, 112.0,64.0,68.0,69.0,65.0,66.0,81.0,80.0,74.0,70.0,63.0,53.0,76.0,65.0,85.0,93.0,55.0,59.0,49.0,45.0,78.0,53.0,77.0,58.0,96.0,65.0,98.0,48.0,51.0,98.0,76.0,125.0,94.0,75.0,80, 60, 80, 66, 87.5, 58, 92, 57, 64, 57, 75, 59, 90, 67, 60, 72, 73, 86, 75, 95, 60, 75, 65, 60, 73, 63, 78, 64, 50, 61, 70, 60, 57, 110, 71, 65, 67, 58, 90, 64, 70, 43, 50, 78, 82, 61, 70, 70, 70, 50, 72, 55, 58, 50, 70, 90, 51]\n",
        "altura =[169, 177, 175, 167, 166, 185, 165, 193, 175, 160.0, 170.0, 170.0, 174.0, 169.0, 178.0, 179.0, 181.0, 175.0, 184.0,170.0,168.0,180.0,175.0,170.0,170.0,173.0,170.0,190.0,170.0,165.0,178.0,178.0,183.0,179.0,169.0,179.0,153.0,170.0,183.0,172.0,168.0,153.0,186.0,170.0,170.0,157.0,160.0,176.0,182.0,184.0,189.0,170.0,168, 194, 170, 176, 173, 166, 180, 160, 167, 173, 173, 161, 169, 171, 178, 168, 170, 164, 164, 180, 175, 178, 175, 169, 178, 170, 175, 164, 175, 167, 170, 180, 163, 189, 171, 165, 172, 165, 175, 170, 181, 165, 152, 179, 179, 175, 180, 175, 173, 170, 178, 177, 153, 154, 183, 185, 160]\n",
        "\n",
        "\n",
        "plt.hist(idades, bins=33, range=[17,50]) #bins = classes de frequência\n",
        "plt.xlabel('idade (anos)')\n",
        "plt.ylabel('frequência')\n",
        "plt.title('Histograma das idades')\n",
        "\n",
        "print(idades)\n",
        "print(massa)\n",
        "print(altura)\n",
        "\n",
        "plt.show()"
      ]
    },
    {
      "cell_type": "markdown",
      "metadata": {
        "id": "ucam_N-pOiax"
      },
      "source": [
        "O histograma acima, representa a **distribuição** das idades, organizadas em intervalos de 1 ano. Colocamos o título em cada eixo, para determinar o que representam. É importante determinar os títulos dos eixos e a unidades correspondente.\n",
        "\n",
        "A distribuição ficou um pouco espalhada demais (esparsa), certo?\n",
        "\n",
        "E se decidirmos representar as idades em intervalos de 5 anos? Como ficaria essa distribuição?\n",
        "Vamos ver!\n",
        "\n",
        "No código de Python que estamos construindo, o que controla os intervalos (também chamamos esses intervalos de **classes de frequência**) é a **variável** chamada de \"bins\". A variável chamada \"range\" (que é opcional), determina a variação dos valores do eixo-x. No nosso exemplo das idades, o intervalo do eixo-x é de 10 a 60, que são a menor e maior idade do conjunto, respectivamente."
      ]
    },
    {
      "cell_type": "code",
      "execution_count": null,
      "metadata": {
        "id": "inl3CpdKPnAc"
      },
      "outputs": [],
      "source": [
        "plt.hist(idades, bins=[10,15,20,25,30,35,40,45,50,55,60])\n",
        "plt.xlabel('idade (anos)')\n",
        "plt.ylabel('frequência')\n",
        "plt.title('Histograma das idades de um grupo de pessoas')\n",
        "plt.show()"
      ]
    },
    {
      "cell_type": "code",
      "execution_count": null,
      "metadata": {
        "id": "enPfs8JdffSd"
      },
      "outputs": [],
      "source": [
        "fig = plt.figure( figsize=(10,10) )\n",
        "\n",
        "countsi, binsi, _ = plt.hist( idades, bins=7, ec=\"red\", range=(15,50), color=\"green\" )\n",
        "#plt.xlim( 17, 26 )\n",
        "plt.xlabel( \"Idades (anos)\", fontsize=18 )\n",
        "plt.ylabel( \"Frequência\", fontsize=18 )\n",
        "plt.xticks(binsi)\n",
        "plt.show()"
      ]
    },
    {
      "cell_type": "code",
      "source": [
        "countsi"
      ],
      "metadata": {
        "id": "yzJTvWlQ6uc0"
      },
      "execution_count": null,
      "outputs": []
    },
    {
      "cell_type": "code",
      "source": [
        "#massa\n",
        "fig = plt.figure( figsize=(10,10) )\n",
        "\n",
        "countsm, binsm, _ = plt.hist( massa, bins=13, ec=\"red\", range=(45,110), color=\"green\" )\n",
        "#plt.xlim( 55,  )\n",
        "plt.xlabel( \"Massa (kg)\", fontsize=18 )\n",
        "plt.ylabel( \"Frequência\", fontsize=18 )\n",
        "plt.xticks(binsm)\n",
        "plt.show()\n"
      ],
      "metadata": {
        "id": "dzhvgQcWTyI7"
      },
      "execution_count": null,
      "outputs": []
    },
    {
      "cell_type": "code",
      "execution_count": null,
      "metadata": {
        "id": "egmgzFYUobam"
      },
      "outputs": [],
      "source": [
        "#massa\n",
        "fig = plt.figure( figsize=(8,6) )\n",
        "countsm, binsm, _ = plt.hist( massa, bins=12, range=(50,110) )\n",
        "plt.xlim( 50, 110 )\n",
        "plt.xlabel( \"Massa (kg)\", fontsize=18 )\n",
        "plt.ylabel( \"Frequência\", fontsize=18 )\n",
        "#print(massa)\n"
      ]
    },
    {
      "cell_type": "code",
      "source": [
        "#altura\n",
        "fig = plt.figure( figsize=(8,6) )\n",
        "\n",
        "countsa, binsa, _ = plt.hist( altura, bins=10, ec=\"red\", range=(150,200), color=\"green\" )\n",
        "plt.xlim( 145, 200 )\n",
        "plt.xlabel( \"Altura (cm)\", fontsize=18 )\n",
        "plt.ylabel( \"Frequência\", fontsize=18 )\n",
        "plt.xticks(binsa)\n",
        "plt.show()"
      ],
      "metadata": {
        "id": "7UBTclJEUajS"
      },
      "execution_count": null,
      "outputs": []
    },
    {
      "cell_type": "code",
      "execution_count": null,
      "metadata": {
        "id": "DSPlfdwOobv5"
      },
      "outputs": [],
      "source": [
        "#altura\n",
        "fig = plt.figure( figsize=(8,6) )\n",
        "\n",
        "countsa, binsa, _ = plt.hist( altura, bins=10, range=(150,200) )\n",
        "plt.xlim( 150, 200 )\n",
        "plt.xlabel( \"Altura (cm)\", fontsize=18 )\n",
        "plt.ylabel( \"Frequência\", fontsize=18 )\n",
        "print(altura)"
      ]
    },
    {
      "cell_type": "markdown",
      "metadata": {
        "id": "1qD4Ttecqw0N"
      },
      "source": [
        "Frequência para cada intervalo:"
      ]
    },
    {
      "cell_type": "code",
      "execution_count": null,
      "metadata": {
        "id": "1d56f-KnpwlV"
      },
      "outputs": [],
      "source": [
        "#frequencia e classes idade\n",
        "print(\"Borda dos intervalos \", binsi)\n",
        "print(\"Frequências dos intervalos  \", countsi)\n"
      ]
    },
    {
      "cell_type": "code",
      "execution_count": null,
      "metadata": {
        "id": "D0O5WtkOqsEB"
      },
      "outputs": [],
      "source": [
        "#frequencia e classes massa\n",
        "print(\"Borda dos intervalos \", binsm)\n",
        "print(\"Frequências dos intervalos \", countsm)\n"
      ]
    },
    {
      "cell_type": "code",
      "execution_count": null,
      "metadata": {
        "id": "59aP-3YWqibL"
      },
      "outputs": [],
      "source": [
        "#frequencia e classes altura\n",
        "print(\"Bordas dos intervalos \", binsa)\n",
        "print(\"Frequências dos intervalos \", countsa)\n"
      ]
    },
    {
      "cell_type": "markdown",
      "metadata": {
        "id": "9N0abXBWiMq4"
      },
      "source": [
        "Média:"
      ]
    },
    {
      "cell_type": "code",
      "execution_count": null,
      "metadata": {
        "id": "6AF6X9q7iTOU"
      },
      "outputs": [],
      "source": [
        "#soma\n",
        "np.sum(idades)"
      ]
    },
    {
      "cell_type": "code",
      "execution_count": null,
      "metadata": {
        "id": "e2cOeYVKijvz"
      },
      "outputs": [],
      "source": [
        "#número de elementos indepente do conjunto\n",
        "N_i=len(idades)\n",
        "N_i\n",
        "N_m=len(massa)\n",
        "N_m\n",
        "N_a=len(altura)\n",
        "N_a\n",
        "\n",
        "N = N_a\n",
        "\n",
        "print(N_i,N_m,N_a,N)\n"
      ]
    },
    {
      "cell_type": "code",
      "execution_count": null,
      "metadata": {
        "id": "iL96rD4ZkMqi"
      },
      "outputs": [],
      "source": [
        "media = np.sum( idades ) / N\n",
        "print ( \"Média: {}\".format( media ) )"
      ]
    },
    {
      "cell_type": "code",
      "execution_count": null,
      "metadata": {
        "id": "FpWZ1MNZ8_S_"
      },
      "outputs": [],
      "source": [
        "media_m = np.sum( massa ) / N\n",
        "media_a = np.sum( altura) / N"
      ]
    },
    {
      "cell_type": "code",
      "execution_count": null,
      "metadata": {
        "id": "s9wOObg58_ft"
      },
      "outputs": [],
      "source": [
        "print ( \"Média das Idades: {}\".format( media ) )\n",
        "print ( \"Média das massas: {}\".format( media_m ) )\n",
        "print ( \"Média das alturas: {}\".format( media_a ) )"
      ]
    },
    {
      "cell_type": "markdown",
      "metadata": {
        "id": "yQFNuoiqkjak"
      },
      "source": [
        "Cálculo da média quadrática:\n"
      ]
    },
    {
      "cell_type": "code",
      "execution_count": null,
      "metadata": {
        "id": "G3O-bJi9kkWP"
      },
      "outputs": [],
      "source": [
        "# Sequência de valores ao quadrado\n",
        "x2 = [x**2 for x in idades]\n",
        "x2"
      ]
    },
    {
      "cell_type": "code",
      "execution_count": null,
      "metadata": {
        "id": "TCy3XUl9nfqI"
      },
      "outputs": [],
      "source": [
        "somax2= np.sum( x2 )\n",
        "somax2\n"
      ]
    },
    {
      "cell_type": "code",
      "execution_count": null,
      "metadata": {
        "id": "90RgxvMWb_gp"
      },
      "outputs": [],
      "source": [
        "msomax2=np.mean(x2)\n",
        "msomax2"
      ]
    },
    {
      "cell_type": "code",
      "execution_count": null,
      "metadata": {
        "id": "2PFRsxBP9grB"
      },
      "outputs": [],
      "source": [
        "# Sequência de valores ao quadrado das Massas\n",
        "x2_m = [xm**2 for xm in massa]\n",
        "x2_m\n",
        "somax2m= np.sum( x2_m )\n",
        "somax2m"
      ]
    },
    {
      "cell_type": "code",
      "execution_count": null,
      "metadata": {
        "id": "nmRZzZyG9sRC"
      },
      "outputs": [],
      "source": [
        "# Sequência de valores ao quadrado das Massas\n",
        "x2_a = [xa**2 for xa in altura]\n",
        "x2_a\n",
        "somax2a= np.sum( x2_a )\n",
        "somax2a"
      ]
    },
    {
      "cell_type": "code",
      "execution_count": null,
      "metadata": {
        "id": "dJXSZtCx-JOU"
      },
      "outputs": [],
      "source": [
        "msomax2m=np.mean(x2_m)\n",
        "msomax2m"
      ]
    },
    {
      "cell_type": "code",
      "execution_count": null,
      "metadata": {
        "id": "k8pOVEgj-JbS"
      },
      "outputs": [],
      "source": [
        "msomax2a=np.mean(x2_a)\n",
        "msomax2a"
      ]
    },
    {
      "cell_type": "code",
      "execution_count": null,
      "metadata": {
        "id": "YOIxGmdSa_0G"
      },
      "outputs": [],
      "source": [
        "print ( \"Média quadrática das idades: {}\".format(np.sqrt(msomax2)))\n",
        "print ( \"Média quadrática das massas: {:.5f}\".format(np.sqrt(msomax2m)))\n",
        "print ( \"Média quadrática das alturas: {:.3f}\".format(np.sqrt(msomax2a)))"
      ]
    },
    {
      "cell_type": "markdown",
      "metadata": {
        "id": "TBywNA8Xn59Y"
      },
      "source": [
        "Cálculo da mediana:\n",
        "- ordenando o conjunto e obtendo os elementos corretos\n",
        "- utilizando a função `np.median`"
      ]
    },
    {
      "cell_type": "code",
      "execution_count": null,
      "metadata": {
        "id": "gKtaZoJJn8Cl"
      },
      "outputs": [],
      "source": [
        "idades_ord = np.sort( idades )\n",
        "idades_ord"
      ]
    },
    {
      "cell_type": "code",
      "execution_count": null,
      "metadata": {
        "id": "R5_bcyvqoZ5_"
      },
      "outputs": [],
      "source": [
        "idades_ord[ int(N/2)-1 ] # Índices de 0..(N-1)"
      ]
    },
    {
      "cell_type": "code",
      "execution_count": null,
      "metadata": {
        "id": "VvalzCUJodXA"
      },
      "outputs": [],
      "source": [
        "idades_ord[ int(N/2) ] # Índices de 0..(N-1)"
      ]
    },
    {
      "cell_type": "code",
      "execution_count": null,
      "metadata": {
        "id": "KYn9d2TKk4GA"
      },
      "outputs": [],
      "source": [
        "np.median( idades)"
      ]
    },
    {
      "cell_type": "code",
      "execution_count": null,
      "metadata": {
        "id": "jWnCxkLK-ewf"
      },
      "outputs": [],
      "source": [
        "np.median( massa)"
      ]
    },
    {
      "cell_type": "code",
      "execution_count": null,
      "metadata": {
        "id": "y32yZZGI-e6U"
      },
      "outputs": [],
      "source": [
        "np.median( altura)"
      ]
    },
    {
      "cell_type": "markdown",
      "metadata": {
        "id": "CcwvxwZ8lDzy"
      },
      "source": [
        "Cálculo da moda (histograma):\n"
      ]
    },
    {
      "cell_type": "code",
      "execution_count": null,
      "metadata": {
        "id": "36Dx8BvSlA3t"
      },
      "outputs": [],
      "source": [
        "\n",
        "idx_max = np.argmax( countsm )\n",
        "print ( \"Valor máximo: {}\".format( countsm[ idx_max ] ) )\n",
        "print ( \"Intervalo com valor máximo: ({},{})\".format( binsm[ idx_max ], binsm[ idx_max+1 ] ) )"
      ]
    },
    {
      "cell_type": "markdown",
      "metadata": {
        "id": "hr9dGNpnlhkR"
      },
      "source": [
        "Cálculo da variância:"
      ]
    },
    {
      "cell_type": "code",
      "execution_count": null,
      "metadata": {
        "id": "NNJk93WNljyP"
      },
      "outputs": [],
      "source": [
        "# Diferença entre média dos quadrados e quadrado da média\n",
        "variancia_I = np.mean( x2 ) - (media) ** 2\n",
        "variancia_I"
      ]
    },
    {
      "cell_type": "markdown",
      "metadata": {
        "id": "wWr0-mAFmdIT"
      },
      "source": [
        "Usando o Numpy:\n"
      ]
    },
    {
      "cell_type": "code",
      "execution_count": null,
      "metadata": {
        "id": "ipSTt5vomcHm"
      },
      "outputs": [],
      "source": [
        "np.var(idades)"
      ]
    },
    {
      "cell_type": "code",
      "execution_count": null,
      "metadata": {
        "id": "yVVWi_9XEoTI"
      },
      "outputs": [],
      "source": [
        "np.var(massa)"
      ]
    },
    {
      "cell_type": "code",
      "execution_count": null,
      "metadata": {
        "id": "IWZQSMjJErS0"
      },
      "outputs": [],
      "source": [
        "np.var(altura)"
      ]
    },
    {
      "cell_type": "code",
      "execution_count": null,
      "metadata": {
        "id": "IEdVaZnAmtEe"
      },
      "outputs": [],
      "source": [
        "np.var( idades, ddof=0 )"
      ]
    },
    {
      "cell_type": "markdown",
      "metadata": {
        "id": "NOB2t9v6mzPm"
      },
      "source": [
        "Desvio Padrão:"
      ]
    },
    {
      "cell_type": "code",
      "execution_count": null,
      "metadata": {
        "id": "ztJ3YM2Om4IB"
      },
      "outputs": [],
      "source": [
        "std_dev_I = np.sqrt( variancia_I )\n",
        "std_dev_I"
      ]
    },
    {
      "cell_type": "code",
      "execution_count": null,
      "metadata": {
        "id": "rgjkRADtnBvD"
      },
      "outputs": [],
      "source": [
        "np.std( idades )"
      ]
    },
    {
      "cell_type": "code",
      "execution_count": null,
      "metadata": {
        "id": "l4ed8YKFEz-j"
      },
      "outputs": [],
      "source": [
        "np.std( massa )"
      ]
    },
    {
      "cell_type": "code",
      "execution_count": null,
      "metadata": {
        "id": "ZEL7WzVNE0Jg"
      },
      "outputs": [],
      "source": [
        "np.std( altura )"
      ]
    },
    {
      "cell_type": "code",
      "execution_count": null,
      "metadata": {
        "id": "jq8PwwDBnGYz"
      },
      "outputs": [],
      "source": [
        "np.std( idades, ddof=0 )"
      ]
    },
    {
      "cell_type": "markdown",
      "metadata": {
        "id": "7uBxR9gvnMDw"
      },
      "source": [
        "\n",
        "\n",
        "\n",
        "\n",
        "Desvio médio:"
      ]
    },
    {
      "cell_type": "code",
      "execution_count": null,
      "metadata": {
        "id": "j7lk08XjnOK5"
      },
      "outputs": [],
      "source": [
        "# Sequência de desvios em relação à média das idades\n",
        "( idades - np.mean( idades ) )"
      ]
    },
    {
      "cell_type": "code",
      "execution_count": null,
      "metadata": {
        "id": "rC1lhABBFAVf"
      },
      "outputs": [],
      "source": [
        "# Sequência de desvios em relação à média das massas\n",
        "( massa - np.mean( massa ) )"
      ]
    },
    {
      "cell_type": "code",
      "execution_count": null,
      "metadata": {
        "id": "9iWbRoBXFAY8"
      },
      "outputs": [],
      "source": [
        "# Sequência de desvios em relação à média das alturas\n",
        "( altura - np.mean( altura ) )"
      ]
    },
    {
      "cell_type": "markdown",
      "metadata": {
        "id": "sPiRjVfQnXiI"
      },
      "source": [
        "\n",
        "\n",
        "\n",
        "Desvios Absolutos:"
      ]
    },
    {
      "cell_type": "code",
      "execution_count": null,
      "metadata": {
        "id": "1JthXgN1nZmx"
      },
      "outputs": [],
      "source": [
        "# Desvios absolutos\n",
        "np.abs( idades - np.mean( idades ) )"
      ]
    },
    {
      "cell_type": "code",
      "execution_count": null,
      "metadata": {
        "id": "jZwm_-q5FPqW"
      },
      "outputs": [],
      "source": [
        "# Desvios absolutos\n",
        "np.abs( massa - np.mean( massa ) )"
      ]
    },
    {
      "cell_type": "code",
      "execution_count": null,
      "metadata": {
        "id": "h1zlTShIFP0M"
      },
      "outputs": [],
      "source": [
        "# Desvios absolutos\n",
        "np.abs( altura - np.mean( altura ) )"
      ]
    },
    {
      "cell_type": "code",
      "execution_count": null,
      "metadata": {
        "id": "jdzLLV8-njOQ"
      },
      "outputs": [],
      "source": [
        "#podemos fazer em uma linha\n",
        "desvio_medio = np.mean( np.abs( idades - np.mean( idades ) ) )\n",
        "desvio_medio_m = np.mean( np.abs( massa - np.mean( massa ) ) )\n",
        "desvio_medio_a = np.mean( np.abs( altura - np.mean( altura ) ) )\n",
        "\n",
        "print ( \"Desvio médio das idades: {}\".format( desvio_medio ) )\n",
        "print ( \"Desvio médio das massas: {}\".format( desvio_medio_m ) )\n",
        "print ( \"Desvio médio das alturas: {}\".format( desvio_medio_a ) )"
      ]
    },
    {
      "cell_type": "markdown",
      "metadata": {
        "id": "QOK1Oh4Vnu8P"
      },
      "source": [
        "Largura a meia altura (histograma):\n",
        "\n",
        "- Pode ser obtido via inspeção direta do histograma.\n",
        "\n",
        "- O fragmento de código abaixo automatiza o procedimento."
      ]
    },
    {
      "cell_type": "code",
      "execution_count": null,
      "metadata": {
        "id": "evPEeYUxn1fG"
      },
      "outputs": [],
      "source": [
        "fig = plt.figure( figsize=(8,6) )\n",
        "\n",
        "x_min = 18.0\n",
        "x_max = 40.0\n",
        "\n",
        "counts, bins, _ = plt.hist( idades, bins=22, range=(x_min, x_max) )\n",
        "\n",
        "valor_maximo = np.max( counts )\n",
        "\n",
        "valor_meia_altura = valor_maximo / 2\n",
        "\n",
        "print ( \"Valor meia altura: {}\".format( valor_meia_altura ) )\n",
        "\n",
        "plt.plot( (x_min,x_max),(valor_meia_altura,valor_meia_altura), 'k-', linewidth=0.5 )\n",
        "\n",
        "idx_bin_1 = np.argmax( counts >= valor_meia_altura )\n",
        "idx_bin_2 = counts.size - np.argmax( counts[::-1] >= valor_meia_altura ) - 1\n",
        "\n",
        "val_I_meia_altura_1 = bins[ idx_bin_1 ]\n",
        "val_I_meia_altura_2 = bins[ idx_bin_2 + 1 ]\n",
        "print ( \"val_I_meia_altura_1: {}\".format( val_I_meia_altura_1 ) )\n",
        "print ( \"val_I_meia_altura_2: {}\".format( val_I_meia_altura_2 ) )\n",
        "\n",
        "plt.arrow( val_I_meia_altura_1, valor_maximo/2+1.3 , 0., -1., head_width=0.3, head_length=0.3 )\n",
        "plt.arrow( val_I_meia_altura_2, valor_maximo/2+1.3 , 0., -1., head_width=0.3, head_length=0.3 )\n",
        "\n",
        "plt.xlim( 15.0, 50.0 )\n",
        "plt.xlabel( \"Idades (anos)\", fontsize=18 )\n",
        "plt.ylabel( \"Frequência\", fontsize=18 )\n",
        "\n",
        "largura_meia_altura = ( val_I_meia_altura_2 - val_I_meia_altura_1 )\n",
        "print ( \"Largura a meia altura: {}\".format( largura_meia_altura ) )"
      ]
    },
    {
      "cell_type": "code",
      "execution_count": null,
      "metadata": {
        "id": "oli-nse8p6ov"
      },
      "outputs": [],
      "source": [
        "fig = plt.figure( figsize=(8,6) )\n",
        "counts, bins, _ = plt.hist( idades, bins=35, range=(15,50) )\n",
        "plt.xlim( 15, 50 )\n",
        "plt.xlabel( \"Idades (anos)\", fontsize=18 )\n",
        "plt.ylabel( \"Frequência\", fontsize=18 )\n",
        "print ( \"Média quadrática: {}\".format( np.sqrt( msomax2 ) ) )\n",
        "print ( \"Média: {}\".format( media ) )"
      ]
    },
    {
      "cell_type": "markdown",
      "metadata": {
        "id": "y8tjreqUSwCg"
      },
      "source": [
        "\n",
        "## Exercícios:\n",
        "1. Altere a **classe de frequência** do histograma acima, para termos um intervalo de **5 anos** entre as idades e construa o histograma correspondente.\n",
        "\n",
        "\n",
        "2. Para construir esse histograma, usamos a **função** (ou **método**) *hist* de um **módulo** de Python, o *matplotlib*, cuja documentação se encontra [aqui](https://matplotlib.org/3.2.1/api/_as_gen/matplotlib.pyplot.hist.html#matplotlib.pyplot.hist). Baseando-se nessa documentação (ou qualquer outra que você encontre), mude a **cor** do histograma.\n",
        "\n",
        "3. Defina um outro conjunto e construa o histograma desse conjunto. Tente definir qual a melhor classe de frequência antes de construir seu histograma e veja o que acontece se você aumentar ou diminuir a classe de frequência (bins)."
      ]
    },
    {
      "cell_type": "markdown",
      "metadata": {
        "id": "kOepRhZD4q35"
      },
      "source": [
        "##Diagramas de Dispersão\n",
        "Abaixo, apresentamos como o exemplo o diagrama de dispersão altura (cms) x massa (kg)."
      ]
    },
    {
      "cell_type": "markdown",
      "metadata": {
        "id": "GIuMKsmAeqbO"
      },
      "source": [
        "Correlação massa vs altura:"
      ]
    },
    {
      "cell_type": "code",
      "execution_count": null,
      "metadata": {
        "id": "K2YO95OG5VP6"
      },
      "outputs": [],
      "source": [
        "fig = plt.figure( figsize=(8,6) )\n",
        "\n",
        "plt.plot(massa,altura,'o')\n",
        "plt.xlim( 40, 100 )\n",
        "plt.ylim(145, 200 )\n",
        "plt.title('Diagrama de dispersão massa (kg) x altura (cm)')\n",
        "plt.xlabel( \"Massa (kg)\", fontsize=18 )\n",
        "plt.ylabel( \"Altura (cm)\", fontsize=18 )\n",
        "plt.grid()\n"
      ]
    },
    {
      "cell_type": "markdown",
      "metadata": {
        "id": "wlzG9M2HBTaf"
      },
      "source": [
        "\n",
        "Correlação Idade vs Altura:\n",
        "\n"
      ]
    },
    {
      "cell_type": "code",
      "execution_count": null,
      "metadata": {
        "id": "anF9XitTe_eq"
      },
      "outputs": [],
      "source": [
        "fig = plt.figure( figsize=(8,6) )\n",
        "\n",
        "plt.plot( idades, altura, 'o' )\n",
        "plt.xlim( 16, 50 )\n",
        "plt.ylim(140, 200 )\n",
        "plt.title('Diagrama de dispersão idade (anos) x altura (cm)')\n",
        "plt.xlabel( \"Idade (anos)\", fontsize=18 )\n",
        "plt.ylabel( \"Altura (cm)\", fontsize=18 )\n",
        "plt.grid()\n"
      ]
    },
    {
      "cell_type": "markdown",
      "metadata": {
        "id": "gtW6bZbUfAU6"
      },
      "source": [
        "Correlação Idade vs Peso:"
      ]
    },
    {
      "cell_type": "code",
      "execution_count": null,
      "metadata": {
        "id": "V2NmFZe_fC7a"
      },
      "outputs": [],
      "source": [
        "fig = plt.figure( figsize=(8,6) )\n",
        "\n",
        "plt.plot( idades, massa, 'o' )\n",
        "plt.xlim( 16, 50 )\n",
        "plt.ylim( 40., 100. )\n",
        "plt.title('Diagrama de dispersão idade (anos) x massa (kg)')\n",
        "plt.xlabel( \"Idade (anos)\", fontsize=18 )\n",
        "plt.ylabel( \"Massa (kg)\", fontsize=18 )\n",
        "plt.grid()"
      ]
    },
    {
      "cell_type": "markdown",
      "metadata": {
        "id": "wKlunHeR4p1N"
      },
      "source": [
        "Cálculo das variâncias:"
      ]
    },
    {
      "cell_type": "code",
      "execution_count": null,
      "metadata": {
        "id": "KZegCWPQ4o5p"
      },
      "outputs": [],
      "source": [
        "# Diferença entre média dos quadrados e quadrado da média\n",
        "np.mean( x2 ) - np.mean( idades ) ** 2"
      ]
    },
    {
      "cell_type": "code",
      "execution_count": null,
      "metadata": {
        "id": "-j-gF8IC8CLo"
      },
      "outputs": [],
      "source": [
        "np.mean( x2_m ) - np.mean( massa ) ** 2"
      ]
    },
    {
      "cell_type": "code",
      "execution_count": null,
      "metadata": {
        "id": "Scn1o5os8DHf"
      },
      "outputs": [],
      "source": [
        "np.mean( x2_a ) - np.mean( altura ) ** 2"
      ]
    },
    {
      "cell_type": "markdown",
      "metadata": {
        "id": "V7u8GhoQ-5H5"
      },
      "source": [
        "Usando NumPy:"
      ]
    },
    {
      "cell_type": "code",
      "execution_count": null,
      "metadata": {
        "id": "hN-htx9y-6Ig"
      },
      "outputs": [],
      "source": [
        "var_Idade = np.var( idades, ddof=0 )\n",
        "var_Idade"
      ]
    },
    {
      "cell_type": "code",
      "execution_count": null,
      "metadata": {
        "id": "p4R-Sgzg-_bs"
      },
      "outputs": [],
      "source": [
        "var_Massa = np.var( massa, ddof=0 )\n",
        "var_Massa"
      ]
    },
    {
      "cell_type": "code",
      "execution_count": null,
      "metadata": {
        "id": "rpD0rI5U_DfW"
      },
      "outputs": [],
      "source": [
        "var_Altura = np.var( altura, ddof=0 )\n",
        "var_Altura"
      ]
    },
    {
      "cell_type": "markdown",
      "metadata": {
        "id": "De4FI-Dz_OXx"
      },
      "source": [
        "Cálculo das covariâncias:"
      ]
    },
    {
      "cell_type": "code",
      "execution_count": null,
      "metadata": {
        "id": "pEG3T2NV_RnT"
      },
      "outputs": [],
      "source": [
        "# Sequência com valores dos produtos dos elementos de mesmo índice dos arrays\n",
        "#idades * massa\n",
        "product_IxM = np.multiply(idades,massa)\n",
        "print(product_IxM)"
      ]
    },
    {
      "cell_type": "code",
      "execution_count": null,
      "metadata": {
        "id": "FTaTkH8NBbmU"
      },
      "outputs": [],
      "source": [
        "product_IxA = np.multiply(idades,altura)\n",
        "print(product_IxA)"
      ]
    },
    {
      "cell_type": "code",
      "execution_count": null,
      "metadata": {
        "id": "mwP2KjIfBb3e"
      },
      "outputs": [],
      "source": [
        "product_MxA = np.multiply(massa,altura)\n",
        "print(product_MxA)"
      ]
    },
    {
      "cell_type": "code",
      "execution_count": null,
      "metadata": {
        "id": "PGNgOHOWA8fo"
      },
      "outputs": [],
      "source": [
        "# Covariância: diferença entre média dos produtos e produto das médias\n",
        "np.mean(product_IxM  ) - np.mean( idades ) * np.mean( massa )"
      ]
    },
    {
      "cell_type": "code",
      "execution_count": null,
      "metadata": {
        "id": "rv8QlD-jBZNF"
      },
      "outputs": [],
      "source": [
        "np.mean(product_IxA  ) - np.mean( idades ) * np.mean( altura )"
      ]
    },
    {
      "cell_type": "code",
      "execution_count": null,
      "metadata": {
        "id": "ji5J189kByxo"
      },
      "outputs": [],
      "source": [
        "np.mean(product_MxA  ) - np.mean( massa ) * np.mean( altura )"
      ]
    },
    {
      "cell_type": "markdown",
      "metadata": {
        "id": "xUI1UUp7CDFc"
      },
      "source": [
        "Usando NumPy:\n",
        "\n",
        "\n"
      ]
    },
    {
      "cell_type": "code",
      "execution_count": null,
      "metadata": {
        "id": "Sg3yWX23CLjR"
      },
      "outputs": [],
      "source": [
        "# (Idade, Peso)\n",
        "cov_Idade_Peso = np.cov( idades, massa, ddof=0 )\n",
        "cov_Idade_Peso"
      ]
    },
    {
      "cell_type": "code",
      "execution_count": null,
      "metadata": {
        "id": "0MU8iNG1Cle9"
      },
      "outputs": [],
      "source": [
        "# Variância Idade\n",
        "cov_Idade_Peso[0,0]"
      ]
    },
    {
      "cell_type": "code",
      "execution_count": null,
      "metadata": {
        "id": "W0dWW7lxCnSY"
      },
      "outputs": [],
      "source": [
        "# Variância Idade\n",
        "cov_Idade_Peso[1,1]"
      ]
    },
    {
      "cell_type": "code",
      "execution_count": null,
      "metadata": {
        "id": "exuE5mtMCq_D"
      },
      "outputs": [],
      "source": [
        "# Covariância (Idade,Peso)\n",
        "cov_Idade_Peso[0,1]"
      ]
    },
    {
      "cell_type": "code",
      "execution_count": null,
      "metadata": {
        "id": "s8Xp4pc8CxLd"
      },
      "outputs": [],
      "source": [
        "# Coeficiente de correlação\n",
        "cov_Idade_Peso[0,1] / ( np.sqrt( var_Idade ) * np.sqrt( var_Massa ) )"
      ]
    },
    {
      "cell_type": "code",
      "execution_count": null,
      "metadata": {
        "id": "Q2-RCtpnDON_"
      },
      "outputs": [],
      "source": [
        "# (Idade, Altura)\n",
        "cov_Idade_Altura = np.cov( idades, altura, ddof=0 )\n",
        "cov_Idade_Altura"
      ]
    },
    {
      "cell_type": "code",
      "execution_count": null,
      "metadata": {
        "id": "LqXOhQxxDe5K"
      },
      "outputs": [],
      "source": [
        "# Variância Idade\n",
        "cov_Idade_Altura[0,0]"
      ]
    },
    {
      "cell_type": "code",
      "execution_count": null,
      "metadata": {
        "id": "zaud4HMuDjYU"
      },
      "outputs": [],
      "source": [
        "# Variância Altura\n",
        "cov_Idade_Altura[1,1]"
      ]
    },
    {
      "cell_type": "code",
      "execution_count": null,
      "metadata": {
        "id": "ehUnAgbLDtyC"
      },
      "outputs": [],
      "source": [
        "# Covariância (Idade,Altura)\n",
        "cov_Idade_Altura[0,1]"
      ]
    },
    {
      "cell_type": "code",
      "execution_count": null,
      "metadata": {
        "id": "t4LRW2JLDxLX"
      },
      "outputs": [],
      "source": [
        "# Coeficiente de correlação\n",
        "cov_Idade_Altura[0,1] / ( np.sqrt( var_Idade ) * np.sqrt( var_Altura ) )"
      ]
    },
    {
      "cell_type": "code",
      "execution_count": null,
      "metadata": {
        "id": "I61KeIQCD0bz"
      },
      "outputs": [],
      "source": [
        "# (Peso, Altura)\n",
        "cov_Peso_Altura = np.cov( massa, altura, ddof=0 )\n",
        "cov_Peso_Altura"
      ]
    },
    {
      "cell_type": "code",
      "execution_count": null,
      "metadata": {
        "id": "tz08mWMLD6qp"
      },
      "outputs": [],
      "source": [
        "# Variância Massa\n",
        "cov_Peso_Altura[0,0]"
      ]
    },
    {
      "cell_type": "code",
      "execution_count": null,
      "metadata": {
        "id": "IKaM8tH6D-x_"
      },
      "outputs": [],
      "source": [
        "# Variância Altura\n",
        "cov_Peso_Altura[1,1]"
      ]
    },
    {
      "cell_type": "code",
      "execution_count": null,
      "metadata": {
        "id": "sPb9W7GIEJj0"
      },
      "outputs": [],
      "source": [
        "# Covariância (Peso,Altura)\n",
        "cov_Peso_Altura[0,1]"
      ]
    },
    {
      "cell_type": "code",
      "execution_count": null,
      "metadata": {
        "id": "JUKS2SeMEOPt"
      },
      "outputs": [],
      "source": [
        "# Coeficiente de correlação\n",
        "cov_Peso_Altura[0,1] / ( np.sqrt( var_Massa ) * np.sqrt( var_Altura ) )"
      ]
    }
  ],
  "metadata": {
    "colab": {
      "provenance": [],
      "include_colab_link": true
    },
    "kernelspec": {
      "display_name": "Python 3",
      "name": "python3"
    }
  },
  "nbformat": 4,
  "nbformat_minor": 0
}